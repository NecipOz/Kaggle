{
  "nbformat": 4,
  "nbformat_minor": 0,
  "metadata": {
    "colab": {
      "name": "androidgames.ipynb",
      "provenance": [],
      "collapsed_sections": [],
      "authorship_tag": "ABX9TyNMILh4xdPISAuNql6EKICg",
      "include_colab_link": true
    },
    "kernelspec": {
      "name": "python3",
      "display_name": "Python 3"
    },
    "language_info": {
      "name": "python"
    }
  },
  "cells": [
    {
      "cell_type": "markdown",
      "metadata": {
        "id": "view-in-github",
        "colab_type": "text"
      },
      "source": [
        "<a href=\"https://colab.research.google.com/github/NecipOz/Kaggle/blob/main/androidgames.ipynb\" target=\"_parent\"><img src=\"https://colab.research.google.com/assets/colab-badge.svg\" alt=\"Open In Colab\"/></a>"
      ]
    },
    {
      "cell_type": "code",
      "execution_count": 1,
      "metadata": {
        "id": "LrE3PZQ1xKh8"
      },
      "outputs": [],
      "source": [
        "import numpy as np\n",
        "import pandas as pd\n",
        "from scipy import stats\n",
        "import seaborn as sns\n",
        "import matplotlib.pyplot as plt"
      ]
    },
    {
      "cell_type": "code",
      "source": [
        "df0 = pd.read_csv(\"android-games.csv\")\n",
        "df = df0.copy()"
      ],
      "metadata": {
        "id": "enTw0LMexU-8"
      },
      "execution_count": 2,
      "outputs": []
    },
    {
      "cell_type": "code",
      "source": [
        "df.sample(15)"
      ],
      "metadata": {
        "colab": {
          "base_uri": "https://localhost:8080/",
          "height": 807
        },
        "id": "U3hqB-S1xf5L",
        "outputId": "238db17f-1101-4344-f967-c12adff414e1"
      },
      "execution_count": 3,
      "outputs": [
        {
          "output_type": "execute_result",
          "data": {
            "text/html": [
              "\n",
              "  <div id=\"df-fe0eeeb3-a2ab-4171-bda7-8d2f260bc2e9\">\n",
              "    <div class=\"colab-df-container\">\n",
              "      <div>\n",
              "<style scoped>\n",
              "    .dataframe tbody tr th:only-of-type {\n",
              "        vertical-align: middle;\n",
              "    }\n",
              "\n",
              "    .dataframe tbody tr th {\n",
              "        vertical-align: top;\n",
              "    }\n",
              "\n",
              "    .dataframe thead th {\n",
              "        text-align: right;\n",
              "    }\n",
              "</style>\n",
              "<table border=\"1\" class=\"dataframe\">\n",
              "  <thead>\n",
              "    <tr style=\"text-align: right;\">\n",
              "      <th></th>\n",
              "      <th>rank</th>\n",
              "      <th>title</th>\n",
              "      <th>total ratings</th>\n",
              "      <th>installs</th>\n",
              "      <th>average rating</th>\n",
              "      <th>growth (30 days)</th>\n",
              "      <th>growth (60 days)</th>\n",
              "      <th>price</th>\n",
              "      <th>category</th>\n",
              "      <th>5 star ratings</th>\n",
              "      <th>4 star ratings</th>\n",
              "      <th>3 star ratings</th>\n",
              "      <th>2 star ratings</th>\n",
              "      <th>1 star ratings</th>\n",
              "      <th>paid</th>\n",
              "    </tr>\n",
              "  </thead>\n",
              "  <tbody>\n",
              "    <tr>\n",
              "      <th>856</th>\n",
              "      <td>31</td>\n",
              "      <td>Beat Craft</td>\n",
              "      <td>161111</td>\n",
              "      <td>5.0 M</td>\n",
              "      <td>4</td>\n",
              "      <td>1.2</td>\n",
              "      <td>2.5</td>\n",
              "      <td>0.0</td>\n",
              "      <td>GAME MUSIC</td>\n",
              "      <td>117376</td>\n",
              "      <td>21217</td>\n",
              "      <td>8910</td>\n",
              "      <td>3356</td>\n",
              "      <td>10249</td>\n",
              "      <td>False</td>\n",
              "    </tr>\n",
              "    <tr>\n",
              "      <th>393</th>\n",
              "      <td>94</td>\n",
              "      <td>Ludo Neo-Classic : King of the Dice Game</td>\n",
              "      <td>92835</td>\n",
              "      <td>10.0 M</td>\n",
              "      <td>4</td>\n",
              "      <td>0.4</td>\n",
              "      <td>0.6</td>\n",
              "      <td>0.0</td>\n",
              "      <td>GAME BOARD</td>\n",
              "      <td>61320</td>\n",
              "      <td>9118</td>\n",
              "      <td>5819</td>\n",
              "      <td>3789</td>\n",
              "      <td>12787</td>\n",
              "      <td>False</td>\n",
              "    </tr>\n",
              "    <tr>\n",
              "      <th>1245</th>\n",
              "      <td>20</td>\n",
              "      <td>Hooked Inc: Fisher Tycoon</td>\n",
              "      <td>1216891</td>\n",
              "      <td>10.0 M</td>\n",
              "      <td>4</td>\n",
              "      <td>1.1</td>\n",
              "      <td>2.5</td>\n",
              "      <td>0.0</td>\n",
              "      <td>GAME SIMULATION</td>\n",
              "      <td>881238</td>\n",
              "      <td>188929</td>\n",
              "      <td>87539</td>\n",
              "      <td>20875</td>\n",
              "      <td>38307</td>\n",
              "      <td>False</td>\n",
              "    </tr>\n",
              "    <tr>\n",
              "      <th>1316</th>\n",
              "      <td>91</td>\n",
              "      <td>레알팜 : 진짜 농산물 주는 게임</td>\n",
              "      <td>382940</td>\n",
              "      <td>5.0 M</td>\n",
              "      <td>4</td>\n",
              "      <td>0.1</td>\n",
              "      <td>0.0</td>\n",
              "      <td>0.0</td>\n",
              "      <td>GAME SIMULATION</td>\n",
              "      <td>242138</td>\n",
              "      <td>74428</td>\n",
              "      <td>36624</td>\n",
              "      <td>8536</td>\n",
              "      <td>21211</td>\n",
              "      <td>False</td>\n",
              "    </tr>\n",
              "    <tr>\n",
              "      <th>321</th>\n",
              "      <td>22</td>\n",
              "      <td>Backgammon Plus</td>\n",
              "      <td>466525</td>\n",
              "      <td>5.0 M</td>\n",
              "      <td>3</td>\n",
              "      <td>2212.2</td>\n",
              "      <td>0.2</td>\n",
              "      <td>0.0</td>\n",
              "      <td>GAME BOARD</td>\n",
              "      <td>271493</td>\n",
              "      <td>22728</td>\n",
              "      <td>15722</td>\n",
              "      <td>8505</td>\n",
              "      <td>148075</td>\n",
              "      <td>False</td>\n",
              "    </tr>\n",
              "    <tr>\n",
              "      <th>659</th>\n",
              "      <td>34</td>\n",
              "      <td>Gacha Club</td>\n",
              "      <td>1222505</td>\n",
              "      <td>10.0 M</td>\n",
              "      <td>4</td>\n",
              "      <td>5.9</td>\n",
              "      <td>12.9</td>\n",
              "      <td>0.0</td>\n",
              "      <td>GAME CASUAL</td>\n",
              "      <td>976018</td>\n",
              "      <td>118010</td>\n",
              "      <td>42649</td>\n",
              "      <td>18392</td>\n",
              "      <td>67434</td>\n",
              "      <td>False</td>\n",
              "    </tr>\n",
              "    <tr>\n",
              "      <th>1422</th>\n",
              "      <td>97</td>\n",
              "      <td>Basketball Kings: Multiplayer</td>\n",
              "      <td>252130</td>\n",
              "      <td>5.0 M</td>\n",
              "      <td>4</td>\n",
              "      <td>0.0</td>\n",
              "      <td>0.0</td>\n",
              "      <td>0.0</td>\n",
              "      <td>GAME SPORTS</td>\n",
              "      <td>198907</td>\n",
              "      <td>28125</td>\n",
              "      <td>12033</td>\n",
              "      <td>3178</td>\n",
              "      <td>9884</td>\n",
              "      <td>False</td>\n",
              "    </tr>\n",
              "    <tr>\n",
              "      <th>862</th>\n",
              "      <td>37</td>\n",
              "      <td>My Singing Monsters: Dawn of Fire</td>\n",
              "      <td>130606</td>\n",
              "      <td>1.0 M</td>\n",
              "      <td>4</td>\n",
              "      <td>0.4</td>\n",
              "      <td>0.9</td>\n",
              "      <td>0.0</td>\n",
              "      <td>GAME MUSIC</td>\n",
              "      <td>102708</td>\n",
              "      <td>14153</td>\n",
              "      <td>5413</td>\n",
              "      <td>2297</td>\n",
              "      <td>6032</td>\n",
              "      <td>False</td>\n",
              "    </tr>\n",
              "    <tr>\n",
              "      <th>1202</th>\n",
              "      <td>77</td>\n",
              "      <td>Guardian Tales</td>\n",
              "      <td>364398</td>\n",
              "      <td>1.0 M</td>\n",
              "      <td>4</td>\n",
              "      <td>5.3</td>\n",
              "      <td>10.4</td>\n",
              "      <td>0.0</td>\n",
              "      <td>GAME ROLE PLAYING</td>\n",
              "      <td>301336</td>\n",
              "      <td>35050</td>\n",
              "      <td>10864</td>\n",
              "      <td>4773</td>\n",
              "      <td>12372</td>\n",
              "      <td>False</td>\n",
              "    </tr>\n",
              "    <tr>\n",
              "      <th>978</th>\n",
              "      <td>53</td>\n",
              "      <td>パズル＆ドラゴンズ(Puzzle &amp; Dragons)</td>\n",
              "      <td>594490</td>\n",
              "      <td>10.0 M</td>\n",
              "      <td>3</td>\n",
              "      <td>0.1</td>\n",
              "      <td>0.3</td>\n",
              "      <td>0.0</td>\n",
              "      <td>GAME PUZZLE</td>\n",
              "      <td>332022</td>\n",
              "      <td>79166</td>\n",
              "      <td>56797</td>\n",
              "      <td>26915</td>\n",
              "      <td>99587</td>\n",
              "      <td>False</td>\n",
              "    </tr>\n",
              "    <tr>\n",
              "      <th>241</th>\n",
              "      <td>42</td>\n",
              "      <td>Zombie Roadkill 3D</td>\n",
              "      <td>1089029</td>\n",
              "      <td>50.0 M</td>\n",
              "      <td>4</td>\n",
              "      <td>0.4</td>\n",
              "      <td>0.8</td>\n",
              "      <td>0.0</td>\n",
              "      <td>GAME ARCADE</td>\n",
              "      <td>749202</td>\n",
              "      <td>118094</td>\n",
              "      <td>74237</td>\n",
              "      <td>36598</td>\n",
              "      <td>110896</td>\n",
              "      <td>False</td>\n",
              "    </tr>\n",
              "    <tr>\n",
              "      <th>1371</th>\n",
              "      <td>46</td>\n",
              "      <td>Mobile Soccer</td>\n",
              "      <td>706812</td>\n",
              "      <td>10.0 M</td>\n",
              "      <td>4</td>\n",
              "      <td>0.0</td>\n",
              "      <td>0.0</td>\n",
              "      <td>0.0</td>\n",
              "      <td>GAME SPORTS</td>\n",
              "      <td>535210</td>\n",
              "      <td>69973</td>\n",
              "      <td>33539</td>\n",
              "      <td>12723</td>\n",
              "      <td>55364</td>\n",
              "      <td>False</td>\n",
              "    </tr>\n",
              "    <tr>\n",
              "      <th>815</th>\n",
              "      <td>90</td>\n",
              "      <td>Little Panda’s Space Kitchen - Kids Cooking</td>\n",
              "      <td>54205</td>\n",
              "      <td>10.0 M</td>\n",
              "      <td>4</td>\n",
              "      <td>3.3</td>\n",
              "      <td>7.5</td>\n",
              "      <td>0.0</td>\n",
              "      <td>GAME EDUCATIONAL</td>\n",
              "      <td>39390</td>\n",
              "      <td>3463</td>\n",
              "      <td>2695</td>\n",
              "      <td>2136</td>\n",
              "      <td>6518</td>\n",
              "      <td>False</td>\n",
              "    </tr>\n",
              "    <tr>\n",
              "      <th>1580</th>\n",
              "      <td>55</td>\n",
              "      <td>Guess The Movie ®</td>\n",
              "      <td>94777</td>\n",
              "      <td>1.0 M</td>\n",
              "      <td>3</td>\n",
              "      <td>0.1</td>\n",
              "      <td>0.3</td>\n",
              "      <td>0.0</td>\n",
              "      <td>GAME TRIVIA</td>\n",
              "      <td>31828</td>\n",
              "      <td>18525</td>\n",
              "      <td>15729</td>\n",
              "      <td>9987</td>\n",
              "      <td>18705</td>\n",
              "      <td>False</td>\n",
              "    </tr>\n",
              "    <tr>\n",
              "      <th>769</th>\n",
              "      <td>44</td>\n",
              "      <td>Make-Up Me</td>\n",
              "      <td>90720</td>\n",
              "      <td>10.0 M</td>\n",
              "      <td>3</td>\n",
              "      <td>0.1</td>\n",
              "      <td>0.1</td>\n",
              "      <td>0.0</td>\n",
              "      <td>GAME EDUCATIONAL</td>\n",
              "      <td>55578</td>\n",
              "      <td>8660</td>\n",
              "      <td>7441</td>\n",
              "      <td>4235</td>\n",
              "      <td>14803</td>\n",
              "      <td>False</td>\n",
              "    </tr>\n",
              "  </tbody>\n",
              "</table>\n",
              "</div>\n",
              "      <button class=\"colab-df-convert\" onclick=\"convertToInteractive('df-fe0eeeb3-a2ab-4171-bda7-8d2f260bc2e9')\"\n",
              "              title=\"Convert this dataframe to an interactive table.\"\n",
              "              style=\"display:none;\">\n",
              "        \n",
              "  <svg xmlns=\"http://www.w3.org/2000/svg\" height=\"24px\"viewBox=\"0 0 24 24\"\n",
              "       width=\"24px\">\n",
              "    <path d=\"M0 0h24v24H0V0z\" fill=\"none\"/>\n",
              "    <path d=\"M18.56 5.44l.94 2.06.94-2.06 2.06-.94-2.06-.94-.94-2.06-.94 2.06-2.06.94zm-11 1L8.5 8.5l.94-2.06 2.06-.94-2.06-.94L8.5 2.5l-.94 2.06-2.06.94zm10 10l.94 2.06.94-2.06 2.06-.94-2.06-.94-.94-2.06-.94 2.06-2.06.94z\"/><path d=\"M17.41 7.96l-1.37-1.37c-.4-.4-.92-.59-1.43-.59-.52 0-1.04.2-1.43.59L10.3 9.45l-7.72 7.72c-.78.78-.78 2.05 0 2.83L4 21.41c.39.39.9.59 1.41.59.51 0 1.02-.2 1.41-.59l7.78-7.78 2.81-2.81c.8-.78.8-2.07 0-2.86zM5.41 20L4 18.59l7.72-7.72 1.47 1.35L5.41 20z\"/>\n",
              "  </svg>\n",
              "      </button>\n",
              "      \n",
              "  <style>\n",
              "    .colab-df-container {\n",
              "      display:flex;\n",
              "      flex-wrap:wrap;\n",
              "      gap: 12px;\n",
              "    }\n",
              "\n",
              "    .colab-df-convert {\n",
              "      background-color: #E8F0FE;\n",
              "      border: none;\n",
              "      border-radius: 50%;\n",
              "      cursor: pointer;\n",
              "      display: none;\n",
              "      fill: #1967D2;\n",
              "      height: 32px;\n",
              "      padding: 0 0 0 0;\n",
              "      width: 32px;\n",
              "    }\n",
              "\n",
              "    .colab-df-convert:hover {\n",
              "      background-color: #E2EBFA;\n",
              "      box-shadow: 0px 1px 2px rgba(60, 64, 67, 0.3), 0px 1px 3px 1px rgba(60, 64, 67, 0.15);\n",
              "      fill: #174EA6;\n",
              "    }\n",
              "\n",
              "    [theme=dark] .colab-df-convert {\n",
              "      background-color: #3B4455;\n",
              "      fill: #D2E3FC;\n",
              "    }\n",
              "\n",
              "    [theme=dark] .colab-df-convert:hover {\n",
              "      background-color: #434B5C;\n",
              "      box-shadow: 0px 1px 3px 1px rgba(0, 0, 0, 0.15);\n",
              "      filter: drop-shadow(0px 1px 2px rgba(0, 0, 0, 0.3));\n",
              "      fill: #FFFFFF;\n",
              "    }\n",
              "  </style>\n",
              "\n",
              "      <script>\n",
              "        const buttonEl =\n",
              "          document.querySelector('#df-fe0eeeb3-a2ab-4171-bda7-8d2f260bc2e9 button.colab-df-convert');\n",
              "        buttonEl.style.display =\n",
              "          google.colab.kernel.accessAllowed ? 'block' : 'none';\n",
              "\n",
              "        async function convertToInteractive(key) {\n",
              "          const element = document.querySelector('#df-fe0eeeb3-a2ab-4171-bda7-8d2f260bc2e9');\n",
              "          const dataTable =\n",
              "            await google.colab.kernel.invokeFunction('convertToInteractive',\n",
              "                                                     [key], {});\n",
              "          if (!dataTable) return;\n",
              "\n",
              "          const docLinkHtml = 'Like what you see? Visit the ' +\n",
              "            '<a target=\"_blank\" href=https://colab.research.google.com/notebooks/data_table.ipynb>data table notebook</a>'\n",
              "            + ' to learn more about interactive tables.';\n",
              "          element.innerHTML = '';\n",
              "          dataTable['output_type'] = 'display_data';\n",
              "          await google.colab.output.renderOutput(dataTable, element);\n",
              "          const docLink = document.createElement('div');\n",
              "          docLink.innerHTML = docLinkHtml;\n",
              "          element.appendChild(docLink);\n",
              "        }\n",
              "      </script>\n",
              "    </div>\n",
              "  </div>\n",
              "  "
            ],
            "text/plain": [
              "      rank                                        title  ...  1 star ratings   paid\n",
              "856     31                                   Beat Craft  ...           10249  False\n",
              "393     94     Ludo Neo-Classic : King of the Dice Game  ...           12787  False\n",
              "1245    20                    Hooked Inc: Fisher Tycoon  ...           38307  False\n",
              "1316    91                           레알팜 : 진짜 농산물 주는 게임  ...           21211  False\n",
              "321     22                              Backgammon Plus  ...          148075  False\n",
              "659     34                                   Gacha Club  ...           67434  False\n",
              "1422    97                Basketball Kings: Multiplayer  ...            9884  False\n",
              "862     37            My Singing Monsters: Dawn of Fire  ...            6032  False\n",
              "1202    77                               Guardian Tales  ...           12372  False\n",
              "978     53                  パズル＆ドラゴンズ(Puzzle & Dragons)  ...           99587  False\n",
              "241     42                           Zombie Roadkill 3D  ...          110896  False\n",
              "1371    46                                Mobile Soccer  ...           55364  False\n",
              "815     90  Little Panda’s Space Kitchen - Kids Cooking  ...            6518  False\n",
              "1580    55                            Guess The Movie ®  ...           18705  False\n",
              "769     44                                   Make-Up Me  ...           14803  False\n",
              "\n",
              "[15 rows x 15 columns]"
            ]
          },
          "metadata": {},
          "execution_count": 3
        }
      ]
    },
    {
      "cell_type": "code",
      "source": [
        "df.info()"
      ],
      "metadata": {
        "colab": {
          "base_uri": "https://localhost:8080/"
        },
        "id": "_9euS6iSxh6Y",
        "outputId": "bee0ec90-de61-4503-a944-f0b10edec3e2"
      },
      "execution_count": 4,
      "outputs": [
        {
          "output_type": "stream",
          "name": "stdout",
          "text": [
            "<class 'pandas.core.frame.DataFrame'>\n",
            "RangeIndex: 1730 entries, 0 to 1729\n",
            "Data columns (total 15 columns):\n",
            " #   Column            Non-Null Count  Dtype  \n",
            "---  ------            --------------  -----  \n",
            " 0   rank              1730 non-null   int64  \n",
            " 1   title             1730 non-null   object \n",
            " 2   total ratings     1730 non-null   int64  \n",
            " 3   installs          1730 non-null   object \n",
            " 4   average rating    1730 non-null   int64  \n",
            " 5   growth (30 days)  1730 non-null   float64\n",
            " 6   growth (60 days)  1730 non-null   float64\n",
            " 7   price             1730 non-null   float64\n",
            " 8   category          1730 non-null   object \n",
            " 9   5 star ratings    1730 non-null   int64  \n",
            " 10  4 star ratings    1730 non-null   int64  \n",
            " 11  3 star ratings    1730 non-null   int64  \n",
            " 12  2 star ratings    1730 non-null   int64  \n",
            " 13  1 star ratings    1730 non-null   int64  \n",
            " 14  paid              1730 non-null   bool   \n",
            "dtypes: bool(1), float64(3), int64(8), object(3)\n",
            "memory usage: 191.0+ KB\n"
          ]
        }
      ]
    },
    {
      "cell_type": "code",
      "source": [
        "df.isnull().sum()"
      ],
      "metadata": {
        "colab": {
          "base_uri": "https://localhost:8080/"
        },
        "id": "5jwxapsmxyWd",
        "outputId": "4bd81371-16e6-4087-a65c-95e8cde0bfef"
      },
      "execution_count": 5,
      "outputs": [
        {
          "output_type": "execute_result",
          "data": {
            "text/plain": [
              "rank                0\n",
              "title               0\n",
              "total ratings       0\n",
              "installs            0\n",
              "average rating      0\n",
              "growth (30 days)    0\n",
              "growth (60 days)    0\n",
              "price               0\n",
              "category            0\n",
              "5 star ratings      0\n",
              "4 star ratings      0\n",
              "3 star ratings      0\n",
              "2 star ratings      0\n",
              "1 star ratings      0\n",
              "paid                0\n",
              "dtype: int64"
            ]
          },
          "metadata": {},
          "execution_count": 5
        }
      ]
    },
    {
      "cell_type": "code",
      "source": [
        "df.describe().T"
      ],
      "metadata": {
        "colab": {
          "base_uri": "https://localhost:8080/",
          "height": 394
        },
        "id": "IEydEYN-yKg5",
        "outputId": "552a35d3-52a7-446b-ec24-c41e83cdf21b"
      },
      "execution_count": 6,
      "outputs": [
        {
          "output_type": "execute_result",
          "data": {
            "text/html": [
              "\n",
              "  <div id=\"df-fd42f47b-0327-4378-bf16-f3672a7cd843\">\n",
              "    <div class=\"colab-df-container\">\n",
              "      <div>\n",
              "<style scoped>\n",
              "    .dataframe tbody tr th:only-of-type {\n",
              "        vertical-align: middle;\n",
              "    }\n",
              "\n",
              "    .dataframe tbody tr th {\n",
              "        vertical-align: top;\n",
              "    }\n",
              "\n",
              "    .dataframe thead th {\n",
              "        text-align: right;\n",
              "    }\n",
              "</style>\n",
              "<table border=\"1\" class=\"dataframe\">\n",
              "  <thead>\n",
              "    <tr style=\"text-align: right;\">\n",
              "      <th></th>\n",
              "      <th>count</th>\n",
              "      <th>mean</th>\n",
              "      <th>std</th>\n",
              "      <th>min</th>\n",
              "      <th>25%</th>\n",
              "      <th>50%</th>\n",
              "      <th>75%</th>\n",
              "      <th>max</th>\n",
              "    </tr>\n",
              "  </thead>\n",
              "  <tbody>\n",
              "    <tr>\n",
              "      <th>rank</th>\n",
              "      <td>1730.0</td>\n",
              "      <td>5.038671e+01</td>\n",
              "      <td>2.893674e+01</td>\n",
              "      <td>1.0</td>\n",
              "      <td>25.00</td>\n",
              "      <td>50.0</td>\n",
              "      <td>75.00</td>\n",
              "      <td>100.00</td>\n",
              "    </tr>\n",
              "    <tr>\n",
              "      <th>total ratings</th>\n",
              "      <td>1730.0</td>\n",
              "      <td>1.064332e+06</td>\n",
              "      <td>3.429250e+06</td>\n",
              "      <td>32993.0</td>\n",
              "      <td>175999.25</td>\n",
              "      <td>428606.5</td>\n",
              "      <td>883797.00</td>\n",
              "      <td>86273129.00</td>\n",
              "    </tr>\n",
              "    <tr>\n",
              "      <th>average rating</th>\n",
              "      <td>1730.0</td>\n",
              "      <td>3.908092e+00</td>\n",
              "      <td>2.909734e-01</td>\n",
              "      <td>2.0</td>\n",
              "      <td>4.00</td>\n",
              "      <td>4.0</td>\n",
              "      <td>4.00</td>\n",
              "      <td>4.00</td>\n",
              "    </tr>\n",
              "    <tr>\n",
              "      <th>growth (30 days)</th>\n",
              "      <td>1730.0</td>\n",
              "      <td>3.217359e+02</td>\n",
              "      <td>6.018915e+03</td>\n",
              "      <td>0.0</td>\n",
              "      <td>0.10</td>\n",
              "      <td>0.5</td>\n",
              "      <td>1.70</td>\n",
              "      <td>227105.70</td>\n",
              "    </tr>\n",
              "    <tr>\n",
              "      <th>growth (60 days)</th>\n",
              "      <td>1730.0</td>\n",
              "      <td>1.225550e+02</td>\n",
              "      <td>2.253892e+03</td>\n",
              "      <td>0.0</td>\n",
              "      <td>0.20</td>\n",
              "      <td>1.0</td>\n",
              "      <td>3.30</td>\n",
              "      <td>69441.40</td>\n",
              "    </tr>\n",
              "    <tr>\n",
              "      <th>price</th>\n",
              "      <td>1730.0</td>\n",
              "      <td>1.094220e-02</td>\n",
              "      <td>2.149873e-01</td>\n",
              "      <td>0.0</td>\n",
              "      <td>0.00</td>\n",
              "      <td>0.0</td>\n",
              "      <td>0.00</td>\n",
              "      <td>7.49</td>\n",
              "    </tr>\n",
              "    <tr>\n",
              "      <th>5 star ratings</th>\n",
              "      <td>1730.0</td>\n",
              "      <td>7.622315e+05</td>\n",
              "      <td>2.538658e+06</td>\n",
              "      <td>13975.0</td>\n",
              "      <td>127730.00</td>\n",
              "      <td>296434.0</td>\n",
              "      <td>619835.75</td>\n",
              "      <td>63546766.00</td>\n",
              "    </tr>\n",
              "    <tr>\n",
              "      <th>4 star ratings</th>\n",
              "      <td>1730.0</td>\n",
              "      <td>1.164366e+05</td>\n",
              "      <td>3.021631e+05</td>\n",
              "      <td>2451.0</td>\n",
              "      <td>20643.00</td>\n",
              "      <td>50980.5</td>\n",
              "      <td>101814.00</td>\n",
              "      <td>5404966.00</td>\n",
              "    </tr>\n",
              "    <tr>\n",
              "      <th>3 star ratings</th>\n",
              "      <td>1730.0</td>\n",
              "      <td>5.706307e+04</td>\n",
              "      <td>1.495314e+05</td>\n",
              "      <td>718.0</td>\n",
              "      <td>9652.50</td>\n",
              "      <td>25078.0</td>\n",
              "      <td>52295.00</td>\n",
              "      <td>3158756.00</td>\n",
              "    </tr>\n",
              "    <tr>\n",
              "      <th>2 star ratings</th>\n",
              "      <td>1730.0</td>\n",
              "      <td>2.710336e+04</td>\n",
              "      <td>8.154542e+04</td>\n",
              "      <td>266.0</td>\n",
              "      <td>4262.25</td>\n",
              "      <td>10675.5</td>\n",
              "      <td>23228.75</td>\n",
              "      <td>2122183.00</td>\n",
              "    </tr>\n",
              "    <tr>\n",
              "      <th>1 star ratings</th>\n",
              "      <td>1730.0</td>\n",
              "      <td>1.014950e+05</td>\n",
              "      <td>4.083745e+05</td>\n",
              "      <td>545.0</td>\n",
              "      <td>12812.00</td>\n",
              "      <td>33686.0</td>\n",
              "      <td>80157.25</td>\n",
              "      <td>12495915.00</td>\n",
              "    </tr>\n",
              "  </tbody>\n",
              "</table>\n",
              "</div>\n",
              "      <button class=\"colab-df-convert\" onclick=\"convertToInteractive('df-fd42f47b-0327-4378-bf16-f3672a7cd843')\"\n",
              "              title=\"Convert this dataframe to an interactive table.\"\n",
              "              style=\"display:none;\">\n",
              "        \n",
              "  <svg xmlns=\"http://www.w3.org/2000/svg\" height=\"24px\"viewBox=\"0 0 24 24\"\n",
              "       width=\"24px\">\n",
              "    <path d=\"M0 0h24v24H0V0z\" fill=\"none\"/>\n",
              "    <path d=\"M18.56 5.44l.94 2.06.94-2.06 2.06-.94-2.06-.94-.94-2.06-.94 2.06-2.06.94zm-11 1L8.5 8.5l.94-2.06 2.06-.94-2.06-.94L8.5 2.5l-.94 2.06-2.06.94zm10 10l.94 2.06.94-2.06 2.06-.94-2.06-.94-.94-2.06-.94 2.06-2.06.94z\"/><path d=\"M17.41 7.96l-1.37-1.37c-.4-.4-.92-.59-1.43-.59-.52 0-1.04.2-1.43.59L10.3 9.45l-7.72 7.72c-.78.78-.78 2.05 0 2.83L4 21.41c.39.39.9.59 1.41.59.51 0 1.02-.2 1.41-.59l7.78-7.78 2.81-2.81c.8-.78.8-2.07 0-2.86zM5.41 20L4 18.59l7.72-7.72 1.47 1.35L5.41 20z\"/>\n",
              "  </svg>\n",
              "      </button>\n",
              "      \n",
              "  <style>\n",
              "    .colab-df-container {\n",
              "      display:flex;\n",
              "      flex-wrap:wrap;\n",
              "      gap: 12px;\n",
              "    }\n",
              "\n",
              "    .colab-df-convert {\n",
              "      background-color: #E8F0FE;\n",
              "      border: none;\n",
              "      border-radius: 50%;\n",
              "      cursor: pointer;\n",
              "      display: none;\n",
              "      fill: #1967D2;\n",
              "      height: 32px;\n",
              "      padding: 0 0 0 0;\n",
              "      width: 32px;\n",
              "    }\n",
              "\n",
              "    .colab-df-convert:hover {\n",
              "      background-color: #E2EBFA;\n",
              "      box-shadow: 0px 1px 2px rgba(60, 64, 67, 0.3), 0px 1px 3px 1px rgba(60, 64, 67, 0.15);\n",
              "      fill: #174EA6;\n",
              "    }\n",
              "\n",
              "    [theme=dark] .colab-df-convert {\n",
              "      background-color: #3B4455;\n",
              "      fill: #D2E3FC;\n",
              "    }\n",
              "\n",
              "    [theme=dark] .colab-df-convert:hover {\n",
              "      background-color: #434B5C;\n",
              "      box-shadow: 0px 1px 3px 1px rgba(0, 0, 0, 0.15);\n",
              "      filter: drop-shadow(0px 1px 2px rgba(0, 0, 0, 0.3));\n",
              "      fill: #FFFFFF;\n",
              "    }\n",
              "  </style>\n",
              "\n",
              "      <script>\n",
              "        const buttonEl =\n",
              "          document.querySelector('#df-fd42f47b-0327-4378-bf16-f3672a7cd843 button.colab-df-convert');\n",
              "        buttonEl.style.display =\n",
              "          google.colab.kernel.accessAllowed ? 'block' : 'none';\n",
              "\n",
              "        async function convertToInteractive(key) {\n",
              "          const element = document.querySelector('#df-fd42f47b-0327-4378-bf16-f3672a7cd843');\n",
              "          const dataTable =\n",
              "            await google.colab.kernel.invokeFunction('convertToInteractive',\n",
              "                                                     [key], {});\n",
              "          if (!dataTable) return;\n",
              "\n",
              "          const docLinkHtml = 'Like what you see? Visit the ' +\n",
              "            '<a target=\"_blank\" href=https://colab.research.google.com/notebooks/data_table.ipynb>data table notebook</a>'\n",
              "            + ' to learn more about interactive tables.';\n",
              "          element.innerHTML = '';\n",
              "          dataTable['output_type'] = 'display_data';\n",
              "          await google.colab.output.renderOutput(dataTable, element);\n",
              "          const docLink = document.createElement('div');\n",
              "          docLink.innerHTML = docLinkHtml;\n",
              "          element.appendChild(docLink);\n",
              "        }\n",
              "      </script>\n",
              "    </div>\n",
              "  </div>\n",
              "  "
            ],
            "text/plain": [
              "                   count          mean  ...        75%          max\n",
              "rank              1730.0  5.038671e+01  ...      75.00       100.00\n",
              "total ratings     1730.0  1.064332e+06  ...  883797.00  86273129.00\n",
              "average rating    1730.0  3.908092e+00  ...       4.00         4.00\n",
              "growth (30 days)  1730.0  3.217359e+02  ...       1.70    227105.70\n",
              "growth (60 days)  1730.0  1.225550e+02  ...       3.30     69441.40\n",
              "price             1730.0  1.094220e-02  ...       0.00         7.49\n",
              "5 star ratings    1730.0  7.622315e+05  ...  619835.75  63546766.00\n",
              "4 star ratings    1730.0  1.164366e+05  ...  101814.00   5404966.00\n",
              "3 star ratings    1730.0  5.706307e+04  ...   52295.00   3158756.00\n",
              "2 star ratings    1730.0  2.710336e+04  ...   23228.75   2122183.00\n",
              "1 star ratings    1730.0  1.014950e+05  ...   80157.25  12495915.00\n",
              "\n",
              "[11 rows x 8 columns]"
            ]
          },
          "metadata": {},
          "execution_count": 6
        }
      ]
    },
    {
      "cell_type": "code",
      "source": [
        "df.describe(include=[object]).T"
      ],
      "metadata": {
        "colab": {
          "base_uri": "https://localhost:8080/",
          "height": 143
        },
        "id": "nbuzzSy03582",
        "outputId": "f20b2d52-520d-4349-fba6-23d48ba4b492"
      },
      "execution_count": 7,
      "outputs": [
        {
          "output_type": "execute_result",
          "data": {
            "text/html": [
              "\n",
              "  <div id=\"df-96c38ea3-8369-4d17-8330-ef0c255ebc94\">\n",
              "    <div class=\"colab-df-container\">\n",
              "      <div>\n",
              "<style scoped>\n",
              "    .dataframe tbody tr th:only-of-type {\n",
              "        vertical-align: middle;\n",
              "    }\n",
              "\n",
              "    .dataframe tbody tr th {\n",
              "        vertical-align: top;\n",
              "    }\n",
              "\n",
              "    .dataframe thead th {\n",
              "        text-align: right;\n",
              "    }\n",
              "</style>\n",
              "<table border=\"1\" class=\"dataframe\">\n",
              "  <thead>\n",
              "    <tr style=\"text-align: right;\">\n",
              "      <th></th>\n",
              "      <th>count</th>\n",
              "      <th>unique</th>\n",
              "      <th>top</th>\n",
              "      <th>freq</th>\n",
              "    </tr>\n",
              "  </thead>\n",
              "  <tbody>\n",
              "    <tr>\n",
              "      <th>title</th>\n",
              "      <td>1730</td>\n",
              "      <td>1675</td>\n",
              "      <td>Solitaire</td>\n",
              "      <td>36</td>\n",
              "    </tr>\n",
              "    <tr>\n",
              "      <th>installs</th>\n",
              "      <td>1730</td>\n",
              "      <td>9</td>\n",
              "      <td>10.0 M</td>\n",
              "      <td>805</td>\n",
              "    </tr>\n",
              "    <tr>\n",
              "      <th>category</th>\n",
              "      <td>1730</td>\n",
              "      <td>17</td>\n",
              "      <td>GAME CARD</td>\n",
              "      <td>126</td>\n",
              "    </tr>\n",
              "  </tbody>\n",
              "</table>\n",
              "</div>\n",
              "      <button class=\"colab-df-convert\" onclick=\"convertToInteractive('df-96c38ea3-8369-4d17-8330-ef0c255ebc94')\"\n",
              "              title=\"Convert this dataframe to an interactive table.\"\n",
              "              style=\"display:none;\">\n",
              "        \n",
              "  <svg xmlns=\"http://www.w3.org/2000/svg\" height=\"24px\"viewBox=\"0 0 24 24\"\n",
              "       width=\"24px\">\n",
              "    <path d=\"M0 0h24v24H0V0z\" fill=\"none\"/>\n",
              "    <path d=\"M18.56 5.44l.94 2.06.94-2.06 2.06-.94-2.06-.94-.94-2.06-.94 2.06-2.06.94zm-11 1L8.5 8.5l.94-2.06 2.06-.94-2.06-.94L8.5 2.5l-.94 2.06-2.06.94zm10 10l.94 2.06.94-2.06 2.06-.94-2.06-.94-.94-2.06-.94 2.06-2.06.94z\"/><path d=\"M17.41 7.96l-1.37-1.37c-.4-.4-.92-.59-1.43-.59-.52 0-1.04.2-1.43.59L10.3 9.45l-7.72 7.72c-.78.78-.78 2.05 0 2.83L4 21.41c.39.39.9.59 1.41.59.51 0 1.02-.2 1.41-.59l7.78-7.78 2.81-2.81c.8-.78.8-2.07 0-2.86zM5.41 20L4 18.59l7.72-7.72 1.47 1.35L5.41 20z\"/>\n",
              "  </svg>\n",
              "      </button>\n",
              "      \n",
              "  <style>\n",
              "    .colab-df-container {\n",
              "      display:flex;\n",
              "      flex-wrap:wrap;\n",
              "      gap: 12px;\n",
              "    }\n",
              "\n",
              "    .colab-df-convert {\n",
              "      background-color: #E8F0FE;\n",
              "      border: none;\n",
              "      border-radius: 50%;\n",
              "      cursor: pointer;\n",
              "      display: none;\n",
              "      fill: #1967D2;\n",
              "      height: 32px;\n",
              "      padding: 0 0 0 0;\n",
              "      width: 32px;\n",
              "    }\n",
              "\n",
              "    .colab-df-convert:hover {\n",
              "      background-color: #E2EBFA;\n",
              "      box-shadow: 0px 1px 2px rgba(60, 64, 67, 0.3), 0px 1px 3px 1px rgba(60, 64, 67, 0.15);\n",
              "      fill: #174EA6;\n",
              "    }\n",
              "\n",
              "    [theme=dark] .colab-df-convert {\n",
              "      background-color: #3B4455;\n",
              "      fill: #D2E3FC;\n",
              "    }\n",
              "\n",
              "    [theme=dark] .colab-df-convert:hover {\n",
              "      background-color: #434B5C;\n",
              "      box-shadow: 0px 1px 3px 1px rgba(0, 0, 0, 0.15);\n",
              "      filter: drop-shadow(0px 1px 2px rgba(0, 0, 0, 0.3));\n",
              "      fill: #FFFFFF;\n",
              "    }\n",
              "  </style>\n",
              "\n",
              "      <script>\n",
              "        const buttonEl =\n",
              "          document.querySelector('#df-96c38ea3-8369-4d17-8330-ef0c255ebc94 button.colab-df-convert');\n",
              "        buttonEl.style.display =\n",
              "          google.colab.kernel.accessAllowed ? 'block' : 'none';\n",
              "\n",
              "        async function convertToInteractive(key) {\n",
              "          const element = document.querySelector('#df-96c38ea3-8369-4d17-8330-ef0c255ebc94');\n",
              "          const dataTable =\n",
              "            await google.colab.kernel.invokeFunction('convertToInteractive',\n",
              "                                                     [key], {});\n",
              "          if (!dataTable) return;\n",
              "\n",
              "          const docLinkHtml = 'Like what you see? Visit the ' +\n",
              "            '<a target=\"_blank\" href=https://colab.research.google.com/notebooks/data_table.ipynb>data table notebook</a>'\n",
              "            + ' to learn more about interactive tables.';\n",
              "          element.innerHTML = '';\n",
              "          dataTable['output_type'] = 'display_data';\n",
              "          await google.colab.output.renderOutput(dataTable, element);\n",
              "          const docLink = document.createElement('div');\n",
              "          docLink.innerHTML = docLinkHtml;\n",
              "          element.appendChild(docLink);\n",
              "        }\n",
              "      </script>\n",
              "    </div>\n",
              "  </div>\n",
              "  "
            ],
            "text/plain": [
              "         count unique        top freq\n",
              "title     1730   1675  Solitaire   36\n",
              "installs  1730      9     10.0 M  805\n",
              "category  1730     17  GAME CARD  126"
            ]
          },
          "metadata": {},
          "execution_count": 7
        }
      ]
    },
    {
      "cell_type": "markdown",
      "source": [
        "## Category Column: Remove \"Game \" part from the items"
      ],
      "metadata": {
        "id": "GfoQ6USNh8IL"
      }
    },
    {
      "cell_type": "code",
      "source": [
        "df.category.value_counts(dropna=False)"
      ],
      "metadata": {
        "colab": {
          "base_uri": "https://localhost:8080/"
        },
        "id": "RBZNr0TcJxvf",
        "outputId": "355680f0-ce7a-4a98-c1e9-7550806c81cb"
      },
      "execution_count": 8,
      "outputs": [
        {
          "output_type": "execute_result",
          "data": {
            "text/plain": [
              "GAME CARD            126\n",
              "GAME WORD            104\n",
              "GAME PUZZLE          100\n",
              "GAME TRIVIA          100\n",
              "GAME STRATEGY        100\n",
              "GAME SPORTS          100\n",
              "GAME SIMULATION      100\n",
              "GAME ROLE PLAYING    100\n",
              "GAME RACING          100\n",
              "GAME ACTION          100\n",
              "GAME ADVENTURE       100\n",
              "GAME EDUCATIONAL     100\n",
              "GAME CASUAL          100\n",
              "GAME CASINO          100\n",
              "GAME BOARD           100\n",
              "GAME ARCADE          100\n",
              "GAME MUSIC           100\n",
              "Name: category, dtype: int64"
            ]
          },
          "metadata": {},
          "execution_count": 8
        }
      ]
    },
    {
      "cell_type": "code",
      "source": [
        "df[\"category\"] = df.category. apply(lambda x: x[5:].strip())\n",
        "df[\"category\"].value_counts()"
      ],
      "metadata": {
        "colab": {
          "base_uri": "https://localhost:8080/"
        },
        "id": "hmcUrSaUiYM6",
        "outputId": "48a7b6c8-5cc7-49c6-db23-5d146b58a7af"
      },
      "execution_count": 9,
      "outputs": [
        {
          "output_type": "execute_result",
          "data": {
            "text/plain": [
              "CARD            126\n",
              "WORD            104\n",
              "PUZZLE          100\n",
              "TRIVIA          100\n",
              "STRATEGY        100\n",
              "SPORTS          100\n",
              "SIMULATION      100\n",
              "ROLE PLAYING    100\n",
              "RACING          100\n",
              "ACTION          100\n",
              "ADVENTURE       100\n",
              "EDUCATIONAL     100\n",
              "CASUAL          100\n",
              "CASINO          100\n",
              "BOARD           100\n",
              "ARCADE          100\n",
              "MUSIC           100\n",
              "Name: category, dtype: int64"
            ]
          },
          "metadata": {},
          "execution_count": 9
        }
      ]
    },
    {
      "cell_type": "code",
      "source": [
        "df.columns"
      ],
      "metadata": {
        "colab": {
          "base_uri": "https://localhost:8080/"
        },
        "id": "T19pycz_8t2N",
        "outputId": "804b822d-0d7a-4e87-937e-5664517b02c3"
      },
      "execution_count": 10,
      "outputs": [
        {
          "output_type": "execute_result",
          "data": {
            "text/plain": [
              "Index(['rank', 'title', 'total ratings', 'installs', 'average rating',\n",
              "       'growth (30 days)', 'growth (60 days)', 'price', 'category',\n",
              "       '5 star ratings', '4 star ratings', '3 star ratings', '2 star ratings',\n",
              "       '1 star ratings', 'paid'],\n",
              "      dtype='object')"
            ]
          },
          "metadata": {},
          "execution_count": 10
        }
      ]
    },
    {
      "cell_type": "markdown",
      "source": [
        "## Ratings Column: Remove letters and convert the items to floats. Result items are million ratings "
      ],
      "metadata": {
        "id": "DezeLGAHmjgQ"
      }
    },
    {
      "cell_type": "code",
      "source": [
        "df.installs.value_counts(dropna=False)"
      ],
      "metadata": {
        "colab": {
          "base_uri": "https://localhost:8080/"
        },
        "id": "Ff8FC7--K9Ic",
        "outputId": "edf0e744-407e-4096-9635-fd29c2d134bb"
      },
      "execution_count": 11,
      "outputs": [
        {
          "output_type": "execute_result",
          "data": {
            "text/plain": [
              "10.0 M      805\n",
              "50.0 M      252\n",
              "5.0 M       245\n",
              "100.0 M     204\n",
              "1.0 M       192\n",
              "500.0 k      15\n",
              "500.0 M      12\n",
              "100.0 k       3\n",
              "1000.0 M      2\n",
              "Name: installs, dtype: int64"
            ]
          },
          "metadata": {},
          "execution_count": 11
        }
      ]
    },
    {
      "cell_type": "code",
      "source": [
        "df.installs[0][:-4]"
      ],
      "metadata": {
        "colab": {
          "base_uri": "https://localhost:8080/",
          "height": 35
        },
        "id": "jfy6fwMGMZht",
        "outputId": "fbf315c9-10b2-4a65-cc9c-023c14acc97d"
      },
      "execution_count": 12,
      "outputs": [
        {
          "output_type": "execute_result",
          "data": {
            "application/vnd.google.colaboratory.intrinsic+json": {
              "type": "string"
            },
            "text/plain": [
              "'500'"
            ]
          },
          "metadata": {},
          "execution_count": 12
        }
      ]
    },
    {
      "cell_type": "code",
      "source": [
        "def install(num):\n",
        "  if num.strip()[-1] == \"M\":\n",
        "    return int(num[:-4])\n",
        "  if num.strip()[-1] == \"k\":\n",
        "    return int(num[:-4])*0.001\n",
        "df[\"installs\"].apply(lambda x: install(x))"
      ],
      "metadata": {
        "colab": {
          "base_uri": "https://localhost:8080/"
        },
        "id": "NSw6Ui9ELRak",
        "outputId": "56497bbe-93a7-4057-b0b9-d710905df130"
      },
      "execution_count": 13,
      "outputs": [
        {
          "output_type": "execute_result",
          "data": {
            "text/plain": [
              "0       500.0\n",
              "1       500.0\n",
              "2       100.0\n",
              "3       100.0\n",
              "4       500.0\n",
              "        ...  \n",
              "1725      1.0\n",
              "1726      1.0\n",
              "1727     10.0\n",
              "1728      5.0\n",
              "1729     10.0\n",
              "Name: installs, Length: 1730, dtype: float64"
            ]
          },
          "metadata": {},
          "execution_count": 13
        }
      ]
    },
    {
      "cell_type": "code",
      "source": [
        "df[\"installs_num\"] = df[\"installs\"].apply(lambda x: install(x))\n"
      ],
      "metadata": {
        "id": "3OfbWGNoN48v"
      },
      "execution_count": 14,
      "outputs": []
    },
    {
      "cell_type": "code",
      "source": [
        "df.installs_num.value_counts()"
      ],
      "metadata": {
        "colab": {
          "base_uri": "https://localhost:8080/"
        },
        "id": "0DwQVi7sOF97",
        "outputId": "ae85d54d-a7ae-476c-f7c0-96ce6b2eb1f5"
      },
      "execution_count": 15,
      "outputs": [
        {
          "output_type": "execute_result",
          "data": {
            "text/plain": [
              "10.0      805\n",
              "50.0      252\n",
              "5.0       245\n",
              "100.0     204\n",
              "1.0       192\n",
              "0.5        15\n",
              "500.0      12\n",
              "0.1         3\n",
              "1000.0      2\n",
              "Name: installs_num, dtype: int64"
            ]
          },
          "metadata": {},
          "execution_count": 15
        }
      ]
    },
    {
      "cell_type": "code",
      "source": [
        "df.installs.str.extract(r'(\\d+)').value_counts()"
      ],
      "metadata": {
        "colab": {
          "base_uri": "https://localhost:8080/"
        },
        "id": "xcIzWQpGOJwl",
        "outputId": "097cf482-5346-4a28-b48f-e2add52609ec"
      },
      "execution_count": 16,
      "outputs": [
        {
          "output_type": "execute_result",
          "data": {
            "text/plain": [
              "10      805\n",
              "50      252\n",
              "5       245\n",
              "100     207\n",
              "1       192\n",
              "500      27\n",
              "1000      2\n",
              "dtype: int64"
            ]
          },
          "metadata": {},
          "execution_count": 16
        }
      ]
    },
    {
      "cell_type": "markdown",
      "source": [
        "## Control rating stars match with total rating and create a avr. rating score column."
      ],
      "metadata": {
        "id": "P1K50BUgyyQ4"
      }
    },
    {
      "cell_type": "code",
      "source": [
        "df.columns"
      ],
      "metadata": {
        "colab": {
          "base_uri": "https://localhost:8080/"
        },
        "id": "zGeh4-WyQcZU",
        "outputId": "5d3994af-d714-407a-8a6b-fbb28917bd7b"
      },
      "execution_count": 17,
      "outputs": [
        {
          "output_type": "execute_result",
          "data": {
            "text/plain": [
              "Index(['rank', 'title', 'total ratings', 'installs', 'average rating',\n",
              "       'growth (30 days)', 'growth (60 days)', 'price', 'category',\n",
              "       '5 star ratings', '4 star ratings', '3 star ratings', '2 star ratings',\n",
              "       '1 star ratings', 'paid', 'installs_num'],\n",
              "      dtype='object')"
            ]
          },
          "metadata": {},
          "execution_count": 17
        }
      ]
    },
    {
      "cell_type": "code",
      "source": [
        "df[\"ratings_control\"] = df['total ratings']- (df['5 star ratings']+\\\n",
        "                                              df['4 star ratings']+df['3 star ratings']\\\n",
        "                                              +df['2 star ratings']+df['1 star ratings'])"
      ],
      "metadata": {
        "id": "i3Glv557zNHI"
      },
      "execution_count": 18,
      "outputs": []
    },
    {
      "cell_type": "code",
      "source": [
        "df[(df.ratings_control < 0) | (df.ratings_control > 4)]"
      ],
      "metadata": {
        "colab": {
          "base_uri": "https://localhost:8080/",
          "height": 1000
        },
        "id": "pFJsLcjszesz",
        "outputId": "c8b9dab2-d42a-46c2-97f3-7cd734b4512c"
      },
      "execution_count": 19,
      "outputs": [
        {
          "output_type": "execute_result",
          "data": {
            "text/html": [
              "\n",
              "  <div id=\"df-270989d5-f92c-4d8f-8d96-4cf1b49e2e43\">\n",
              "    <div class=\"colab-df-container\">\n",
              "      <div>\n",
              "<style scoped>\n",
              "    .dataframe tbody tr th:only-of-type {\n",
              "        vertical-align: middle;\n",
              "    }\n",
              "\n",
              "    .dataframe tbody tr th {\n",
              "        vertical-align: top;\n",
              "    }\n",
              "\n",
              "    .dataframe thead th {\n",
              "        text-align: right;\n",
              "    }\n",
              "</style>\n",
              "<table border=\"1\" class=\"dataframe\">\n",
              "  <thead>\n",
              "    <tr style=\"text-align: right;\">\n",
              "      <th></th>\n",
              "      <th>rank</th>\n",
              "      <th>title</th>\n",
              "      <th>total ratings</th>\n",
              "      <th>installs</th>\n",
              "      <th>average rating</th>\n",
              "      <th>growth (30 days)</th>\n",
              "      <th>growth (60 days)</th>\n",
              "      <th>price</th>\n",
              "      <th>category</th>\n",
              "      <th>5 star ratings</th>\n",
              "      <th>4 star ratings</th>\n",
              "      <th>3 star ratings</th>\n",
              "      <th>2 star ratings</th>\n",
              "      <th>1 star ratings</th>\n",
              "      <th>paid</th>\n",
              "      <th>installs_num</th>\n",
              "      <th>ratings_control</th>\n",
              "    </tr>\n",
              "  </thead>\n",
              "  <tbody>\n",
              "    <tr>\n",
              "      <th>403</th>\n",
              "      <td>3</td>\n",
              "      <td>Solitaire</td>\n",
              "      <td>1590733</td>\n",
              "      <td>100.0 M</td>\n",
              "      <td>4</td>\n",
              "      <td>0.4</td>\n",
              "      <td>0.9</td>\n",
              "      <td>0.0</td>\n",
              "      <td>CARD</td>\n",
              "      <td>431463</td>\n",
              "      <td>90350</td>\n",
              "      <td>40065</td>\n",
              "      <td>15998</td>\n",
              "      <td>70189</td>\n",
              "      <td>False</td>\n",
              "      <td>100.0</td>\n",
              "      <td>942668</td>\n",
              "    </tr>\n",
              "    <tr>\n",
              "      <th>404</th>\n",
              "      <td>3</td>\n",
              "      <td>Solitaire</td>\n",
              "      <td>1590733</td>\n",
              "      <td>100.0 M</td>\n",
              "      <td>4</td>\n",
              "      <td>0.4</td>\n",
              "      <td>0.9</td>\n",
              "      <td>0.0</td>\n",
              "      <td>CARD</td>\n",
              "      <td>418115</td>\n",
              "      <td>47121</td>\n",
              "      <td>16871</td>\n",
              "      <td>6574</td>\n",
              "      <td>18567</td>\n",
              "      <td>False</td>\n",
              "      <td>100.0</td>\n",
              "      <td>1083485</td>\n",
              "    </tr>\n",
              "    <tr>\n",
              "      <th>405</th>\n",
              "      <td>3</td>\n",
              "      <td>Solitaire</td>\n",
              "      <td>1590733</td>\n",
              "      <td>100.0 M</td>\n",
              "      <td>4</td>\n",
              "      <td>0.4</td>\n",
              "      <td>0.9</td>\n",
              "      <td>0.0</td>\n",
              "      <td>CARD</td>\n",
              "      <td>299715</td>\n",
              "      <td>68177</td>\n",
              "      <td>20617</td>\n",
              "      <td>4959</td>\n",
              "      <td>12653</td>\n",
              "      <td>False</td>\n",
              "      <td>100.0</td>\n",
              "      <td>1184612</td>\n",
              "    </tr>\n",
              "    <tr>\n",
              "      <th>412</th>\n",
              "      <td>10</td>\n",
              "      <td>Solitaire</td>\n",
              "      <td>648068</td>\n",
              "      <td>50.0 M</td>\n",
              "      <td>4</td>\n",
              "      <td>0.0</td>\n",
              "      <td>0.0</td>\n",
              "      <td>0.0</td>\n",
              "      <td>CARD</td>\n",
              "      <td>1117298</td>\n",
              "      <td>308402</td>\n",
              "      <td>82191</td>\n",
              "      <td>25750</td>\n",
              "      <td>57090</td>\n",
              "      <td>False</td>\n",
              "      <td>50.0</td>\n",
              "      <td>-942663</td>\n",
              "    </tr>\n",
              "    <tr>\n",
              "      <th>414</th>\n",
              "      <td>10</td>\n",
              "      <td>Solitaire</td>\n",
              "      <td>648068</td>\n",
              "      <td>50.0 M</td>\n",
              "      <td>4</td>\n",
              "      <td>0.0</td>\n",
              "      <td>0.0</td>\n",
              "      <td>0.0</td>\n",
              "      <td>CARD</td>\n",
              "      <td>418115</td>\n",
              "      <td>47121</td>\n",
              "      <td>16871</td>\n",
              "      <td>6574</td>\n",
              "      <td>18567</td>\n",
              "      <td>False</td>\n",
              "      <td>50.0</td>\n",
              "      <td>140820</td>\n",
              "    </tr>\n",
              "    <tr>\n",
              "      <th>415</th>\n",
              "      <td>10</td>\n",
              "      <td>Solitaire</td>\n",
              "      <td>648068</td>\n",
              "      <td>50.0 M</td>\n",
              "      <td>4</td>\n",
              "      <td>0.0</td>\n",
              "      <td>0.0</td>\n",
              "      <td>0.0</td>\n",
              "      <td>CARD</td>\n",
              "      <td>299715</td>\n",
              "      <td>68177</td>\n",
              "      <td>20617</td>\n",
              "      <td>4959</td>\n",
              "      <td>12653</td>\n",
              "      <td>False</td>\n",
              "      <td>50.0</td>\n",
              "      <td>241947</td>\n",
              "    </tr>\n",
              "    <tr>\n",
              "      <th>418</th>\n",
              "      <td>13</td>\n",
              "      <td>Solitaire</td>\n",
              "      <td>507250</td>\n",
              "      <td>50.0 M</td>\n",
              "      <td>4</td>\n",
              "      <td>0.9</td>\n",
              "      <td>1.9</td>\n",
              "      <td>0.0</td>\n",
              "      <td>CARD</td>\n",
              "      <td>1117298</td>\n",
              "      <td>308402</td>\n",
              "      <td>82191</td>\n",
              "      <td>25750</td>\n",
              "      <td>57090</td>\n",
              "      <td>False</td>\n",
              "      <td>50.0</td>\n",
              "      <td>-1083481</td>\n",
              "    </tr>\n",
              "    <tr>\n",
              "      <th>419</th>\n",
              "      <td>13</td>\n",
              "      <td>Solitaire</td>\n",
              "      <td>507250</td>\n",
              "      <td>50.0 M</td>\n",
              "      <td>4</td>\n",
              "      <td>0.9</td>\n",
              "      <td>1.9</td>\n",
              "      <td>0.0</td>\n",
              "      <td>CARD</td>\n",
              "      <td>431463</td>\n",
              "      <td>90350</td>\n",
              "      <td>40065</td>\n",
              "      <td>15998</td>\n",
              "      <td>70189</td>\n",
              "      <td>False</td>\n",
              "      <td>50.0</td>\n",
              "      <td>-140815</td>\n",
              "    </tr>\n",
              "    <tr>\n",
              "      <th>421</th>\n",
              "      <td>13</td>\n",
              "      <td>Solitaire</td>\n",
              "      <td>507250</td>\n",
              "      <td>50.0 M</td>\n",
              "      <td>4</td>\n",
              "      <td>0.9</td>\n",
              "      <td>1.9</td>\n",
              "      <td>0.0</td>\n",
              "      <td>CARD</td>\n",
              "      <td>299715</td>\n",
              "      <td>68177</td>\n",
              "      <td>20617</td>\n",
              "      <td>4959</td>\n",
              "      <td>12653</td>\n",
              "      <td>False</td>\n",
              "      <td>50.0</td>\n",
              "      <td>101129</td>\n",
              "    </tr>\n",
              "    <tr>\n",
              "      <th>427</th>\n",
              "      <td>19</td>\n",
              "      <td>Solitaire</td>\n",
              "      <td>406124</td>\n",
              "      <td>10.0 M</td>\n",
              "      <td>4</td>\n",
              "      <td>0.3</td>\n",
              "      <td>0.7</td>\n",
              "      <td>0.0</td>\n",
              "      <td>CARD</td>\n",
              "      <td>1117298</td>\n",
              "      <td>308402</td>\n",
              "      <td>82191</td>\n",
              "      <td>25750</td>\n",
              "      <td>57090</td>\n",
              "      <td>False</td>\n",
              "      <td>10.0</td>\n",
              "      <td>-1184607</td>\n",
              "    </tr>\n",
              "    <tr>\n",
              "      <th>428</th>\n",
              "      <td>19</td>\n",
              "      <td>Solitaire</td>\n",
              "      <td>406124</td>\n",
              "      <td>10.0 M</td>\n",
              "      <td>4</td>\n",
              "      <td>0.3</td>\n",
              "      <td>0.7</td>\n",
              "      <td>0.0</td>\n",
              "      <td>CARD</td>\n",
              "      <td>431463</td>\n",
              "      <td>90350</td>\n",
              "      <td>40065</td>\n",
              "      <td>15998</td>\n",
              "      <td>70189</td>\n",
              "      <td>False</td>\n",
              "      <td>10.0</td>\n",
              "      <td>-241941</td>\n",
              "    </tr>\n",
              "    <tr>\n",
              "      <th>429</th>\n",
              "      <td>19</td>\n",
              "      <td>Solitaire</td>\n",
              "      <td>406124</td>\n",
              "      <td>10.0 M</td>\n",
              "      <td>4</td>\n",
              "      <td>0.3</td>\n",
              "      <td>0.7</td>\n",
              "      <td>0.0</td>\n",
              "      <td>CARD</td>\n",
              "      <td>418115</td>\n",
              "      <td>47121</td>\n",
              "      <td>16871</td>\n",
              "      <td>6574</td>\n",
              "      <td>18567</td>\n",
              "      <td>False</td>\n",
              "      <td>10.0</td>\n",
              "      <td>-101124</td>\n",
              "    </tr>\n",
              "    <tr>\n",
              "      <th>460</th>\n",
              "      <td>48</td>\n",
              "      <td>Solitaire</td>\n",
              "      <td>172895</td>\n",
              "      <td>5.0 M</td>\n",
              "      <td>4</td>\n",
              "      <td>0.2</td>\n",
              "      <td>0.4</td>\n",
              "      <td>0.0</td>\n",
              "      <td>CARD</td>\n",
              "      <td>121771</td>\n",
              "      <td>32009</td>\n",
              "      <td>6485</td>\n",
              "      <td>1307</td>\n",
              "      <td>3182</td>\n",
              "      <td>False</td>\n",
              "      <td>5.0</td>\n",
              "      <td>8141</td>\n",
              "    </tr>\n",
              "    <tr>\n",
              "      <th>461</th>\n",
              "      <td>48</td>\n",
              "      <td>Solitaire</td>\n",
              "      <td>172895</td>\n",
              "      <td>5.0 M</td>\n",
              "      <td>4</td>\n",
              "      <td>0.2</td>\n",
              "      <td>0.4</td>\n",
              "      <td>0.0</td>\n",
              "      <td>CARD</td>\n",
              "      <td>114538</td>\n",
              "      <td>32551</td>\n",
              "      <td>6438</td>\n",
              "      <td>1309</td>\n",
              "      <td>2919</td>\n",
              "      <td>False</td>\n",
              "      <td>5.0</td>\n",
              "      <td>15140</td>\n",
              "    </tr>\n",
              "    <tr>\n",
              "      <th>464</th>\n",
              "      <td>51</td>\n",
              "      <td>Solitaire</td>\n",
              "      <td>164757</td>\n",
              "      <td>5.0 M</td>\n",
              "      <td>4</td>\n",
              "      <td>0.1</td>\n",
              "      <td>0.1</td>\n",
              "      <td>0.0</td>\n",
              "      <td>CARD</td>\n",
              "      <td>136067</td>\n",
              "      <td>21789</td>\n",
              "      <td>6870</td>\n",
              "      <td>2356</td>\n",
              "      <td>5811</td>\n",
              "      <td>False</td>\n",
              "      <td>5.0</td>\n",
              "      <td>-8136</td>\n",
              "    </tr>\n",
              "    <tr>\n",
              "      <th>466</th>\n",
              "      <td>51</td>\n",
              "      <td>Solitaire</td>\n",
              "      <td>164757</td>\n",
              "      <td>5.0 M</td>\n",
              "      <td>4</td>\n",
              "      <td>0.1</td>\n",
              "      <td>0.1</td>\n",
              "      <td>0.0</td>\n",
              "      <td>CARD</td>\n",
              "      <td>114538</td>\n",
              "      <td>32551</td>\n",
              "      <td>6438</td>\n",
              "      <td>1309</td>\n",
              "      <td>2919</td>\n",
              "      <td>False</td>\n",
              "      <td>5.0</td>\n",
              "      <td>7002</td>\n",
              "    </tr>\n",
              "    <tr>\n",
              "      <th>468</th>\n",
              "      <td>53</td>\n",
              "      <td>Solitaire</td>\n",
              "      <td>157757</td>\n",
              "      <td>5.0 M</td>\n",
              "      <td>4</td>\n",
              "      <td>1.0</td>\n",
              "      <td>2.7</td>\n",
              "      <td>0.0</td>\n",
              "      <td>CARD</td>\n",
              "      <td>136067</td>\n",
              "      <td>21789</td>\n",
              "      <td>6870</td>\n",
              "      <td>2356</td>\n",
              "      <td>5811</td>\n",
              "      <td>False</td>\n",
              "      <td>5.0</td>\n",
              "      <td>-15136</td>\n",
              "    </tr>\n",
              "    <tr>\n",
              "      <th>469</th>\n",
              "      <td>53</td>\n",
              "      <td>Solitaire</td>\n",
              "      <td>157757</td>\n",
              "      <td>5.0 M</td>\n",
              "      <td>4</td>\n",
              "      <td>1.0</td>\n",
              "      <td>2.7</td>\n",
              "      <td>0.0</td>\n",
              "      <td>CARD</td>\n",
              "      <td>121771</td>\n",
              "      <td>32009</td>\n",
              "      <td>6485</td>\n",
              "      <td>1307</td>\n",
              "      <td>3182</td>\n",
              "      <td>False</td>\n",
              "      <td>5.0</td>\n",
              "      <td>-6997</td>\n",
              "    </tr>\n",
              "    <tr>\n",
              "      <th>483</th>\n",
              "      <td>65</td>\n",
              "      <td>Spider Solitaire</td>\n",
              "      <td>140758</td>\n",
              "      <td>10.0 M</td>\n",
              "      <td>4</td>\n",
              "      <td>0.4</td>\n",
              "      <td>1.0</td>\n",
              "      <td>0.0</td>\n",
              "      <td>CARD</td>\n",
              "      <td>94475</td>\n",
              "      <td>20067</td>\n",
              "      <td>5296</td>\n",
              "      <td>1475</td>\n",
              "      <td>4247</td>\n",
              "      <td>False</td>\n",
              "      <td>10.0</td>\n",
              "      <td>15198</td>\n",
              "    </tr>\n",
              "    <tr>\n",
              "      <th>490</th>\n",
              "      <td>72</td>\n",
              "      <td>Spider Solitaire</td>\n",
              "      <td>125561</td>\n",
              "      <td>10.0 M</td>\n",
              "      <td>4</td>\n",
              "      <td>0.8</td>\n",
              "      <td>1.7</td>\n",
              "      <td>0.0</td>\n",
              "      <td>CARD</td>\n",
              "      <td>106869</td>\n",
              "      <td>21050</td>\n",
              "      <td>6134</td>\n",
              "      <td>1638</td>\n",
              "      <td>5065</td>\n",
              "      <td>False</td>\n",
              "      <td>10.0</td>\n",
              "      <td>-15195</td>\n",
              "    </tr>\n",
              "    <tr>\n",
              "      <th>506</th>\n",
              "      <td>86</td>\n",
              "      <td>Solitaire</td>\n",
              "      <td>106773</td>\n",
              "      <td>5.0 M</td>\n",
              "      <td>4</td>\n",
              "      <td>4.3</td>\n",
              "      <td>8.9</td>\n",
              "      <td>0.0</td>\n",
              "      <td>CARD</td>\n",
              "      <td>88759</td>\n",
              "      <td>7238</td>\n",
              "      <td>2562</td>\n",
              "      <td>919</td>\n",
              "      <td>2954</td>\n",
              "      <td>False</td>\n",
              "      <td>5.0</td>\n",
              "      <td>4341</td>\n",
              "    </tr>\n",
              "    <tr>\n",
              "      <th>507</th>\n",
              "      <td>86</td>\n",
              "      <td>Solitaire</td>\n",
              "      <td>106773</td>\n",
              "      <td>5.0 M</td>\n",
              "      <td>4</td>\n",
              "      <td>4.3</td>\n",
              "      <td>8.9</td>\n",
              "      <td>0.0</td>\n",
              "      <td>CARD</td>\n",
              "      <td>66889</td>\n",
              "      <td>11772</td>\n",
              "      <td>5441</td>\n",
              "      <td>4213</td>\n",
              "      <td>10554</td>\n",
              "      <td>False</td>\n",
              "      <td>5.0</td>\n",
              "      <td>7904</td>\n",
              "    </tr>\n",
              "    <tr>\n",
              "      <th>511</th>\n",
              "      <td>90</td>\n",
              "      <td>Solitaire</td>\n",
              "      <td>102434</td>\n",
              "      <td>10.0 M</td>\n",
              "      <td>4</td>\n",
              "      <td>4.7</td>\n",
              "      <td>13.1</td>\n",
              "      <td>0.0</td>\n",
              "      <td>CARD</td>\n",
              "      <td>90322</td>\n",
              "      <td>9155</td>\n",
              "      <td>3306</td>\n",
              "      <td>1009</td>\n",
              "      <td>2979</td>\n",
              "      <td>False</td>\n",
              "      <td>10.0</td>\n",
              "      <td>-4337</td>\n",
              "    </tr>\n",
              "    <tr>\n",
              "      <th>513</th>\n",
              "      <td>90</td>\n",
              "      <td>Solitaire</td>\n",
              "      <td>102434</td>\n",
              "      <td>10.0 M</td>\n",
              "      <td>4</td>\n",
              "      <td>4.7</td>\n",
              "      <td>13.1</td>\n",
              "      <td>0.0</td>\n",
              "      <td>CARD</td>\n",
              "      <td>66889</td>\n",
              "      <td>11772</td>\n",
              "      <td>5441</td>\n",
              "      <td>4213</td>\n",
              "      <td>10554</td>\n",
              "      <td>False</td>\n",
              "      <td>10.0</td>\n",
              "      <td>3565</td>\n",
              "    </tr>\n",
              "    <tr>\n",
              "      <th>516</th>\n",
              "      <td>93</td>\n",
              "      <td>Solitaire</td>\n",
              "      <td>98872</td>\n",
              "      <td>10.0 M</td>\n",
              "      <td>4</td>\n",
              "      <td>0.2</td>\n",
              "      <td>0.5</td>\n",
              "      <td>0.0</td>\n",
              "      <td>CARD</td>\n",
              "      <td>90322</td>\n",
              "      <td>9155</td>\n",
              "      <td>3306</td>\n",
              "      <td>1009</td>\n",
              "      <td>2979</td>\n",
              "      <td>False</td>\n",
              "      <td>10.0</td>\n",
              "      <td>-7899</td>\n",
              "    </tr>\n",
              "    <tr>\n",
              "      <th>517</th>\n",
              "      <td>93</td>\n",
              "      <td>Solitaire</td>\n",
              "      <td>98872</td>\n",
              "      <td>10.0 M</td>\n",
              "      <td>4</td>\n",
              "      <td>0.2</td>\n",
              "      <td>0.5</td>\n",
              "      <td>0.0</td>\n",
              "      <td>CARD</td>\n",
              "      <td>88759</td>\n",
              "      <td>7238</td>\n",
              "      <td>2562</td>\n",
              "      <td>919</td>\n",
              "      <td>2954</td>\n",
              "      <td>False</td>\n",
              "      <td>10.0</td>\n",
              "      <td>-3560</td>\n",
              "    </tr>\n",
              "    <tr>\n",
              "      <th>1650</th>\n",
              "      <td>24</td>\n",
              "      <td>Word Search</td>\n",
              "      <td>455543</td>\n",
              "      <td>10.0 M</td>\n",
              "      <td>4</td>\n",
              "      <td>0.1</td>\n",
              "      <td>0.3</td>\n",
              "      <td>0.0</td>\n",
              "      <td>WORD</td>\n",
              "      <td>261241</td>\n",
              "      <td>79874</td>\n",
              "      <td>29387</td>\n",
              "      <td>6949</td>\n",
              "      <td>13159</td>\n",
              "      <td>False</td>\n",
              "      <td>10.0</td>\n",
              "      <td>64933</td>\n",
              "    </tr>\n",
              "    <tr>\n",
              "      <th>1656</th>\n",
              "      <td>30</td>\n",
              "      <td>Word Search</td>\n",
              "      <td>390612</td>\n",
              "      <td>50.0 M</td>\n",
              "      <td>4</td>\n",
              "      <td>0.1</td>\n",
              "      <td>0.1</td>\n",
              "      <td>0.0</td>\n",
              "      <td>WORD</td>\n",
              "      <td>278658</td>\n",
              "      <td>96142</td>\n",
              "      <td>40301</td>\n",
              "      <td>11592</td>\n",
              "      <td>28847</td>\n",
              "      <td>False</td>\n",
              "      <td>50.0</td>\n",
              "      <td>-64928</td>\n",
              "    </tr>\n",
              "    <tr>\n",
              "      <th>1699</th>\n",
              "      <td>71</td>\n",
              "      <td>Word Search</td>\n",
              "      <td>161284</td>\n",
              "      <td>10.0 M</td>\n",
              "      <td>4</td>\n",
              "      <td>1.0</td>\n",
              "      <td>2.2</td>\n",
              "      <td>0.0</td>\n",
              "      <td>WORD</td>\n",
              "      <td>120322</td>\n",
              "      <td>18644</td>\n",
              "      <td>5765</td>\n",
              "      <td>1708</td>\n",
              "      <td>3417</td>\n",
              "      <td>False</td>\n",
              "      <td>10.0</td>\n",
              "      <td>11428</td>\n",
              "    </tr>\n",
              "    <tr>\n",
              "      <th>1708</th>\n",
              "      <td>80</td>\n",
              "      <td>Word Search</td>\n",
              "      <td>149858</td>\n",
              "      <td>10.0 M</td>\n",
              "      <td>4</td>\n",
              "      <td>0.0</td>\n",
              "      <td>0.1</td>\n",
              "      <td>0.0</td>\n",
              "      <td>WORD</td>\n",
              "      <td>106127</td>\n",
              "      <td>23103</td>\n",
              "      <td>11207</td>\n",
              "      <td>5583</td>\n",
              "      <td>15262</td>\n",
              "      <td>False</td>\n",
              "      <td>10.0</td>\n",
              "      <td>-11424</td>\n",
              "    </tr>\n",
              "  </tbody>\n",
              "</table>\n",
              "</div>\n",
              "      <button class=\"colab-df-convert\" onclick=\"convertToInteractive('df-270989d5-f92c-4d8f-8d96-4cf1b49e2e43')\"\n",
              "              title=\"Convert this dataframe to an interactive table.\"\n",
              "              style=\"display:none;\">\n",
              "        \n",
              "  <svg xmlns=\"http://www.w3.org/2000/svg\" height=\"24px\"viewBox=\"0 0 24 24\"\n",
              "       width=\"24px\">\n",
              "    <path d=\"M0 0h24v24H0V0z\" fill=\"none\"/>\n",
              "    <path d=\"M18.56 5.44l.94 2.06.94-2.06 2.06-.94-2.06-.94-.94-2.06-.94 2.06-2.06.94zm-11 1L8.5 8.5l.94-2.06 2.06-.94-2.06-.94L8.5 2.5l-.94 2.06-2.06.94zm10 10l.94 2.06.94-2.06 2.06-.94-2.06-.94-.94-2.06-.94 2.06-2.06.94z\"/><path d=\"M17.41 7.96l-1.37-1.37c-.4-.4-.92-.59-1.43-.59-.52 0-1.04.2-1.43.59L10.3 9.45l-7.72 7.72c-.78.78-.78 2.05 0 2.83L4 21.41c.39.39.9.59 1.41.59.51 0 1.02-.2 1.41-.59l7.78-7.78 2.81-2.81c.8-.78.8-2.07 0-2.86zM5.41 20L4 18.59l7.72-7.72 1.47 1.35L5.41 20z\"/>\n",
              "  </svg>\n",
              "      </button>\n",
              "      \n",
              "  <style>\n",
              "    .colab-df-container {\n",
              "      display:flex;\n",
              "      flex-wrap:wrap;\n",
              "      gap: 12px;\n",
              "    }\n",
              "\n",
              "    .colab-df-convert {\n",
              "      background-color: #E8F0FE;\n",
              "      border: none;\n",
              "      border-radius: 50%;\n",
              "      cursor: pointer;\n",
              "      display: none;\n",
              "      fill: #1967D2;\n",
              "      height: 32px;\n",
              "      padding: 0 0 0 0;\n",
              "      width: 32px;\n",
              "    }\n",
              "\n",
              "    .colab-df-convert:hover {\n",
              "      background-color: #E2EBFA;\n",
              "      box-shadow: 0px 1px 2px rgba(60, 64, 67, 0.3), 0px 1px 3px 1px rgba(60, 64, 67, 0.15);\n",
              "      fill: #174EA6;\n",
              "    }\n",
              "\n",
              "    [theme=dark] .colab-df-convert {\n",
              "      background-color: #3B4455;\n",
              "      fill: #D2E3FC;\n",
              "    }\n",
              "\n",
              "    [theme=dark] .colab-df-convert:hover {\n",
              "      background-color: #434B5C;\n",
              "      box-shadow: 0px 1px 3px 1px rgba(0, 0, 0, 0.15);\n",
              "      filter: drop-shadow(0px 1px 2px rgba(0, 0, 0, 0.3));\n",
              "      fill: #FFFFFF;\n",
              "    }\n",
              "  </style>\n",
              "\n",
              "      <script>\n",
              "        const buttonEl =\n",
              "          document.querySelector('#df-270989d5-f92c-4d8f-8d96-4cf1b49e2e43 button.colab-df-convert');\n",
              "        buttonEl.style.display =\n",
              "          google.colab.kernel.accessAllowed ? 'block' : 'none';\n",
              "\n",
              "        async function convertToInteractive(key) {\n",
              "          const element = document.querySelector('#df-270989d5-f92c-4d8f-8d96-4cf1b49e2e43');\n",
              "          const dataTable =\n",
              "            await google.colab.kernel.invokeFunction('convertToInteractive',\n",
              "                                                     [key], {});\n",
              "          if (!dataTable) return;\n",
              "\n",
              "          const docLinkHtml = 'Like what you see? Visit the ' +\n",
              "            '<a target=\"_blank\" href=https://colab.research.google.com/notebooks/data_table.ipynb>data table notebook</a>'\n",
              "            + ' to learn more about interactive tables.';\n",
              "          element.innerHTML = '';\n",
              "          dataTable['output_type'] = 'display_data';\n",
              "          await google.colab.output.renderOutput(dataTable, element);\n",
              "          const docLink = document.createElement('div');\n",
              "          docLink.innerHTML = docLinkHtml;\n",
              "          element.appendChild(docLink);\n",
              "        }\n",
              "      </script>\n",
              "    </div>\n",
              "  </div>\n",
              "  "
            ],
            "text/plain": [
              "      rank             title  ...  installs_num ratings_control\n",
              "403      3         Solitaire  ...         100.0          942668\n",
              "404      3         Solitaire  ...         100.0         1083485\n",
              "405      3         Solitaire  ...         100.0         1184612\n",
              "412     10         Solitaire  ...          50.0         -942663\n",
              "414     10         Solitaire  ...          50.0          140820\n",
              "415     10         Solitaire  ...          50.0          241947\n",
              "418     13         Solitaire  ...          50.0        -1083481\n",
              "419     13         Solitaire  ...          50.0         -140815\n",
              "421     13         Solitaire  ...          50.0          101129\n",
              "427     19         Solitaire  ...          10.0        -1184607\n",
              "428     19         Solitaire  ...          10.0         -241941\n",
              "429     19         Solitaire  ...          10.0         -101124\n",
              "460     48         Solitaire  ...           5.0            8141\n",
              "461     48         Solitaire  ...           5.0           15140\n",
              "464     51         Solitaire  ...           5.0           -8136\n",
              "466     51         Solitaire  ...           5.0            7002\n",
              "468     53         Solitaire  ...           5.0          -15136\n",
              "469     53         Solitaire  ...           5.0           -6997\n",
              "483     65  Spider Solitaire  ...          10.0           15198\n",
              "490     72  Spider Solitaire  ...          10.0          -15195\n",
              "506     86         Solitaire  ...           5.0            4341\n",
              "507     86         Solitaire  ...           5.0            7904\n",
              "511     90         Solitaire  ...          10.0           -4337\n",
              "513     90         Solitaire  ...          10.0            3565\n",
              "516     93         Solitaire  ...          10.0           -7899\n",
              "517     93         Solitaire  ...          10.0           -3560\n",
              "1650    24       Word Search  ...          10.0           64933\n",
              "1656    30       Word Search  ...          50.0          -64928\n",
              "1699    71       Word Search  ...          10.0           11428\n",
              "1708    80       Word Search  ...          10.0          -11424\n",
              "\n",
              "[30 rows x 17 columns]"
            ]
          },
          "metadata": {},
          "execution_count": 19
        }
      ]
    },
    {
      "cell_type": "code",
      "source": [
        "df.iloc[:,9:14]"
      ],
      "metadata": {
        "colab": {
          "base_uri": "https://localhost:8080/",
          "height": 424
        },
        "id": "8TssyCYp3TLe",
        "outputId": "228b10d3-5a83-4677-83a4-780dc767e70f"
      },
      "execution_count": 20,
      "outputs": [
        {
          "output_type": "execute_result",
          "data": {
            "text/html": [
              "\n",
              "  <div id=\"df-33ff1dc9-1de3-4319-a4ae-9d898554a219\">\n",
              "    <div class=\"colab-df-container\">\n",
              "      <div>\n",
              "<style scoped>\n",
              "    .dataframe tbody tr th:only-of-type {\n",
              "        vertical-align: middle;\n",
              "    }\n",
              "\n",
              "    .dataframe tbody tr th {\n",
              "        vertical-align: top;\n",
              "    }\n",
              "\n",
              "    .dataframe thead th {\n",
              "        text-align: right;\n",
              "    }\n",
              "</style>\n",
              "<table border=\"1\" class=\"dataframe\">\n",
              "  <thead>\n",
              "    <tr style=\"text-align: right;\">\n",
              "      <th></th>\n",
              "      <th>5 star ratings</th>\n",
              "      <th>4 star ratings</th>\n",
              "      <th>3 star ratings</th>\n",
              "      <th>2 star ratings</th>\n",
              "      <th>1 star ratings</th>\n",
              "    </tr>\n",
              "  </thead>\n",
              "  <tbody>\n",
              "    <tr>\n",
              "      <th>0</th>\n",
              "      <td>63546766</td>\n",
              "      <td>4949507</td>\n",
              "      <td>3158756</td>\n",
              "      <td>2122183</td>\n",
              "      <td>12495915</td>\n",
              "    </tr>\n",
              "    <tr>\n",
              "      <th>1</th>\n",
              "      <td>28339753</td>\n",
              "      <td>2164478</td>\n",
              "      <td>1253185</td>\n",
              "      <td>809821</td>\n",
              "      <td>4709492</td>\n",
              "    </tr>\n",
              "    <tr>\n",
              "      <th>2</th>\n",
              "      <td>18777988</td>\n",
              "      <td>1812094</td>\n",
              "      <td>1050600</td>\n",
              "      <td>713912</td>\n",
              "      <td>4308998</td>\n",
              "    </tr>\n",
              "    <tr>\n",
              "      <th>3</th>\n",
              "      <td>13018610</td>\n",
              "      <td>1552950</td>\n",
              "      <td>774012</td>\n",
              "      <td>406184</td>\n",
              "      <td>2219794</td>\n",
              "    </tr>\n",
              "    <tr>\n",
              "      <th>4</th>\n",
              "      <td>9827328</td>\n",
              "      <td>2124154</td>\n",
              "      <td>1047741</td>\n",
              "      <td>380670</td>\n",
              "      <td>1084340</td>\n",
              "    </tr>\n",
              "    <tr>\n",
              "      <th>...</th>\n",
              "      <td>...</td>\n",
              "      <td>...</td>\n",
              "      <td>...</td>\n",
              "      <td>...</td>\n",
              "      <td>...</td>\n",
              "    </tr>\n",
              "    <tr>\n",
              "      <th>1725</th>\n",
              "      <td>101036</td>\n",
              "      <td>3607</td>\n",
              "      <td>3237</td>\n",
              "      <td>1229</td>\n",
              "      <td>3297</td>\n",
              "    </tr>\n",
              "    <tr>\n",
              "      <th>1726</th>\n",
              "      <td>88950</td>\n",
              "      <td>14856</td>\n",
              "      <td>4297</td>\n",
              "      <td>1385</td>\n",
              "      <td>2103</td>\n",
              "    </tr>\n",
              "    <tr>\n",
              "      <th>1727</th>\n",
              "      <td>64184</td>\n",
              "      <td>18332</td>\n",
              "      <td>9385</td>\n",
              "      <td>6688</td>\n",
              "      <td>12132</td>\n",
              "    </tr>\n",
              "    <tr>\n",
              "      <th>1728</th>\n",
              "      <td>99987</td>\n",
              "      <td>4766</td>\n",
              "      <td>1469</td>\n",
              "      <td>953</td>\n",
              "      <td>2353</td>\n",
              "    </tr>\n",
              "    <tr>\n",
              "      <th>1729</th>\n",
              "      <td>50813</td>\n",
              "      <td>16480</td>\n",
              "      <td>11825</td>\n",
              "      <td>6166</td>\n",
              "      <td>23631</td>\n",
              "    </tr>\n",
              "  </tbody>\n",
              "</table>\n",
              "<p>1730 rows × 5 columns</p>\n",
              "</div>\n",
              "      <button class=\"colab-df-convert\" onclick=\"convertToInteractive('df-33ff1dc9-1de3-4319-a4ae-9d898554a219')\"\n",
              "              title=\"Convert this dataframe to an interactive table.\"\n",
              "              style=\"display:none;\">\n",
              "        \n",
              "  <svg xmlns=\"http://www.w3.org/2000/svg\" height=\"24px\"viewBox=\"0 0 24 24\"\n",
              "       width=\"24px\">\n",
              "    <path d=\"M0 0h24v24H0V0z\" fill=\"none\"/>\n",
              "    <path d=\"M18.56 5.44l.94 2.06.94-2.06 2.06-.94-2.06-.94-.94-2.06-.94 2.06-2.06.94zm-11 1L8.5 8.5l.94-2.06 2.06-.94-2.06-.94L8.5 2.5l-.94 2.06-2.06.94zm10 10l.94 2.06.94-2.06 2.06-.94-2.06-.94-.94-2.06-.94 2.06-2.06.94z\"/><path d=\"M17.41 7.96l-1.37-1.37c-.4-.4-.92-.59-1.43-.59-.52 0-1.04.2-1.43.59L10.3 9.45l-7.72 7.72c-.78.78-.78 2.05 0 2.83L4 21.41c.39.39.9.59 1.41.59.51 0 1.02-.2 1.41-.59l7.78-7.78 2.81-2.81c.8-.78.8-2.07 0-2.86zM5.41 20L4 18.59l7.72-7.72 1.47 1.35L5.41 20z\"/>\n",
              "  </svg>\n",
              "      </button>\n",
              "      \n",
              "  <style>\n",
              "    .colab-df-container {\n",
              "      display:flex;\n",
              "      flex-wrap:wrap;\n",
              "      gap: 12px;\n",
              "    }\n",
              "\n",
              "    .colab-df-convert {\n",
              "      background-color: #E8F0FE;\n",
              "      border: none;\n",
              "      border-radius: 50%;\n",
              "      cursor: pointer;\n",
              "      display: none;\n",
              "      fill: #1967D2;\n",
              "      height: 32px;\n",
              "      padding: 0 0 0 0;\n",
              "      width: 32px;\n",
              "    }\n",
              "\n",
              "    .colab-df-convert:hover {\n",
              "      background-color: #E2EBFA;\n",
              "      box-shadow: 0px 1px 2px rgba(60, 64, 67, 0.3), 0px 1px 3px 1px rgba(60, 64, 67, 0.15);\n",
              "      fill: #174EA6;\n",
              "    }\n",
              "\n",
              "    [theme=dark] .colab-df-convert {\n",
              "      background-color: #3B4455;\n",
              "      fill: #D2E3FC;\n",
              "    }\n",
              "\n",
              "    [theme=dark] .colab-df-convert:hover {\n",
              "      background-color: #434B5C;\n",
              "      box-shadow: 0px 1px 3px 1px rgba(0, 0, 0, 0.15);\n",
              "      filter: drop-shadow(0px 1px 2px rgba(0, 0, 0, 0.3));\n",
              "      fill: #FFFFFF;\n",
              "    }\n",
              "  </style>\n",
              "\n",
              "      <script>\n",
              "        const buttonEl =\n",
              "          document.querySelector('#df-33ff1dc9-1de3-4319-a4ae-9d898554a219 button.colab-df-convert');\n",
              "        buttonEl.style.display =\n",
              "          google.colab.kernel.accessAllowed ? 'block' : 'none';\n",
              "\n",
              "        async function convertToInteractive(key) {\n",
              "          const element = document.querySelector('#df-33ff1dc9-1de3-4319-a4ae-9d898554a219');\n",
              "          const dataTable =\n",
              "            await google.colab.kernel.invokeFunction('convertToInteractive',\n",
              "                                                     [key], {});\n",
              "          if (!dataTable) return;\n",
              "\n",
              "          const docLinkHtml = 'Like what you see? Visit the ' +\n",
              "            '<a target=\"_blank\" href=https://colab.research.google.com/notebooks/data_table.ipynb>data table notebook</a>'\n",
              "            + ' to learn more about interactive tables.';\n",
              "          element.innerHTML = '';\n",
              "          dataTable['output_type'] = 'display_data';\n",
              "          await google.colab.output.renderOutput(dataTable, element);\n",
              "          const docLink = document.createElement('div');\n",
              "          docLink.innerHTML = docLinkHtml;\n",
              "          element.appendChild(docLink);\n",
              "        }\n",
              "      </script>\n",
              "    </div>\n",
              "  </div>\n",
              "  "
            ],
            "text/plain": [
              "      5 star ratings  4 star ratings  ...  2 star ratings  1 star ratings\n",
              "0           63546766         4949507  ...         2122183        12495915\n",
              "1           28339753         2164478  ...          809821         4709492\n",
              "2           18777988         1812094  ...          713912         4308998\n",
              "3           13018610         1552950  ...          406184         2219794\n",
              "4            9827328         2124154  ...          380670         1084340\n",
              "...              ...             ...  ...             ...             ...\n",
              "1725          101036            3607  ...            1229            3297\n",
              "1726           88950           14856  ...            1385            2103\n",
              "1727           64184           18332  ...            6688           12132\n",
              "1728           99987            4766  ...             953            2353\n",
              "1729           50813           16480  ...            6166           23631\n",
              "\n",
              "[1730 rows x 5 columns]"
            ]
          },
          "metadata": {},
          "execution_count": 20
        }
      ]
    },
    {
      "cell_type": "code",
      "source": [
        "df[\"avg_ranking\"] = ((df.iloc[:,9]*5)+ (df.iloc[:,10]*4)+(df.iloc[:,11]*3)\\\n",
        "+(df.iloc[:,12]*2)+(df.iloc[:,13]))/((df.iloc[:,9])+ (df.iloc[:,10])+(df.iloc[:,11])\\\n",
        "+(df.iloc[:,12])+(df.iloc[:,13]))"
      ],
      "metadata": {
        "id": "E0fR0xbR0CEY"
      },
      "execution_count": 21,
      "outputs": []
    },
    {
      "cell_type": "code",
      "source": [
        "df[\"avg_ranking\"] "
      ],
      "metadata": {
        "colab": {
          "base_uri": "https://localhost:8080/"
        },
        "id": "-KJj0TOJ3bi1",
        "outputId": "5021b87b-b5d4-4c18-a899-86a3afdd2b17"
      },
      "execution_count": 22,
      "outputs": [
        {
          "output_type": "execute_result",
          "data": {
            "text/plain": [
              "0       4.216242\n",
              "1       4.304170\n",
              "2       4.126486\n",
              "3       4.265578\n",
              "4       4.329449\n",
              "          ...   \n",
              "1725    4.760191\n",
              "1726    4.677241\n",
              "1727    4.045402\n",
              "1728    4.817627\n",
              "1729    3.593839\n",
              "Name: avg_ranking, Length: 1730, dtype: float64"
            ]
          },
          "metadata": {},
          "execution_count": 22
        }
      ]
    },
    {
      "cell_type": "markdown",
      "source": [
        "# Outlier Analysis"
      ],
      "metadata": {
        "id": "s4mcayz4H961"
      }
    },
    {
      "cell_type": "markdown",
      "source": [
        "## Growth Rate\n"
      ],
      "metadata": {
        "id": "y8obHBmO4Kxb"
      }
    },
    {
      "cell_type": "code",
      "source": [
        "df.columns"
      ],
      "metadata": {
        "colab": {
          "base_uri": "https://localhost:8080/"
        },
        "id": "tVPOrqnh4NLi",
        "outputId": "acd02dbe-cf18-4afa-f609-76f2d6164111"
      },
      "execution_count": 23,
      "outputs": [
        {
          "output_type": "execute_result",
          "data": {
            "text/plain": [
              "Index(['rank', 'title', 'total ratings', 'installs', 'average rating',\n",
              "       'growth (30 days)', 'growth (60 days)', 'price', 'category',\n",
              "       '5 star ratings', '4 star ratings', '3 star ratings', '2 star ratings',\n",
              "       '1 star ratings', 'paid', 'installs_num', 'ratings_control',\n",
              "       'avg_ranking'],\n",
              "      dtype='object')"
            ]
          },
          "metadata": {},
          "execution_count": 23
        }
      ]
    },
    {
      "cell_type": "code",
      "source": [
        "df['average rating'].value_counts(dropna=False)"
      ],
      "metadata": {
        "colab": {
          "base_uri": "https://localhost:8080/"
        },
        "id": "161rKQDOFv7_",
        "outputId": "0c10f0dc-08a4-4371-ccf6-9861dda5f667"
      },
      "execution_count": 24,
      "outputs": [
        {
          "output_type": "execute_result",
          "data": {
            "text/plain": [
              "4    1572\n",
              "3     157\n",
              "2       1\n",
              "Name: average rating, dtype: int64"
            ]
          },
          "metadata": {},
          "execution_count": 24
        }
      ]
    },
    {
      "cell_type": "code",
      "source": [
        "df[['growth (30 days)']].value_counts(dropna=False)"
      ],
      "metadata": {
        "colab": {
          "base_uri": "https://localhost:8080/"
        },
        "id": "hrgoOdh6H7_j",
        "outputId": "2a5144a4-2fe4-44d2-8617-abe92c05141b"
      },
      "execution_count": 25,
      "outputs": [
        {
          "output_type": "execute_result",
          "data": {
            "text/plain": [
              "growth (30 days)\n",
              "0.0                 269\n",
              "0.1                 234\n",
              "0.2                 137\n",
              "0.3                 114\n",
              "0.4                  87\n",
              "                   ... \n",
              "24.0                  1\n",
              "21.2                  1\n",
              "19.7                  1\n",
              "19.1                  1\n",
              "227105.7              1\n",
              "Length: 186, dtype: int64"
            ]
          },
          "metadata": {},
          "execution_count": 25
        }
      ]
    },
    {
      "cell_type": "code",
      "source": [
        "df[df['growth (30 days)']>10000][['growth (30 days)','growth (60 days)']].value_counts()"
      ],
      "metadata": {
        "colab": {
          "base_uri": "https://localhost:8080/"
        },
        "id": "lWj1ztZIF-lX",
        "outputId": "93d066d4-2d20-488c-cb26-d899c9afe483"
      },
      "execution_count": 26,
      "outputs": [
        {
          "output_type": "execute_result",
          "data": {
            "text/plain": [
              "growth (30 days)  growth (60 days)\n",
              "12602.3           0.7                 1\n",
              "15364.2           5.2                 1\n",
              "17025.0           0.1                 1\n",
              "28062.9           9.8                 1\n",
              "37994.4           2.6                 1\n",
              "55880.6           5.3                 1\n",
              "69928.5           1.6                 1\n",
              "227105.7          2.2                 1\n",
              "dtype: int64"
            ]
          },
          "metadata": {},
          "execution_count": 26
        }
      ]
    },
    {
      "cell_type": "code",
      "source": [
        "len(df[df['growth (30 days)']>100])"
      ],
      "metadata": {
        "colab": {
          "base_uri": "https://localhost:8080/"
        },
        "id": "S3oCPrkg3Vwx",
        "outputId": "dfe0aa14-556d-4235-b822-16063366681f"
      },
      "execution_count": 27,
      "outputs": [
        {
          "output_type": "execute_result",
          "data": {
            "text/plain": [
              "72"
            ]
          },
          "metadata": {},
          "execution_count": 27
        }
      ]
    },
    {
      "cell_type": "code",
      "source": [
        "len(df[df['growth (30 days)']>1000])"
      ],
      "metadata": {
        "colab": {
          "base_uri": "https://localhost:8080/"
        },
        "id": "I4i3GTz-3m-X",
        "outputId": "38c18687-bcfa-437f-a741-bb4f0c617bb6"
      },
      "execution_count": 28,
      "outputs": [
        {
          "output_type": "execute_result",
          "data": {
            "text/plain": [
              "34"
            ]
          },
          "metadata": {},
          "execution_count": 28
        }
      ]
    },
    {
      "cell_type": "code",
      "source": [
        "sns.boxplot(df[df['growth (30 days)']<10]['growth (30 days)'])\n",
        "plt.show()"
      ],
      "metadata": {
        "colab": {
          "base_uri": "https://localhost:8080/",
          "height": 334
        },
        "id": "Im61qCwsGHlz",
        "outputId": "ad4c0fc9-fab8-465c-d9c8-667eba1db2f9"
      },
      "execution_count": 29,
      "outputs": [
        {
          "output_type": "stream",
          "name": "stderr",
          "text": [
            "/usr/local/lib/python3.7/dist-packages/seaborn/_decorators.py:43: FutureWarning: Pass the following variable as a keyword arg: x. From version 0.12, the only valid positional argument will be `data`, and passing other arguments without an explicit keyword will result in an error or misinterpretation.\n",
            "  FutureWarning\n"
          ]
        },
        {
          "output_type": "display_data",
          "data": {
            "image/png": "[encoded data removed]",
            "text/plain": [
              "<Figure size 432x288 with 1 Axes>"
            ]
          },
          "metadata": {
            "needs_background": "light"
          }
        }
      ]
    },
    {
      "cell_type": "code",
      "source": [
        "df['growth (30 days)'].plot()"
      ],
      "metadata": {
        "id": "9uguMN5z5m82",
        "colab": {
          "base_uri": "https://localhost:8080/",
          "height": 282
        },
        "outputId": "d66faab5-edf7-42b2-d10e-918a655a36e3"
      },
      "execution_count": 30,
      "outputs": [
        {
          "output_type": "execute_result",
          "data": {
            "text/plain": [
              "<matplotlib.axes._subplots.AxesSubplot at 0x7f13c8ab5810>"
            ]
          },
          "metadata": {},
          "execution_count": 30
        },
        {
          "output_type": "display_data",
          "data": {
            "image/png": "[encoded data removed]",
            "text/plain": [
              "<Figure size 432x288 with 1 Axes>"
            ]
          },
          "metadata": {
            "needs_background": "light"
          }
        }
      ]
    },
    {
      "cell_type": "code",
      "source": [
        "df['growth (60 days)'].value_counts(dropna=False)"
      ],
      "metadata": {
        "colab": {
          "base_uri": "https://localhost:8080/"
        },
        "id": "D-mm1xok0H-R",
        "outputId": "29632f2d-68a8-45be-b83f-3e5ecad442ad"
      },
      "execution_count": 31,
      "outputs": [
        {
          "output_type": "execute_result",
          "data": {
            "text/plain": [
              "0.0       180\n",
              "0.1       166\n",
              "0.2       104\n",
              "0.3        89\n",
              "0.5        66\n",
              "         ... \n",
              "11.8        1\n",
              "19.3        1\n",
              "12.9        1\n",
              "9.7         1\n",
              "5556.2      1\n",
              "Name: growth (60 days), Length: 206, dtype: int64"
            ]
          },
          "metadata": {},
          "execution_count": 31
        }
      ]
    },
    {
      "cell_type": "code",
      "source": [
        "df[df['growth (60 days)']>100][['growth (30 days)','growth (60 days)']].value_counts(dropna=False)"
      ],
      "metadata": {
        "colab": {
          "base_uri": "https://localhost:8080/"
        },
        "id": "MeHwdq8R0cyR",
        "outputId": "25276626-12e1-4b69-f969-42896767a08f"
      },
      "execution_count": 32,
      "outputs": [
        {
          "output_type": "execute_result",
          "data": {
            "text/plain": [
              "growth (30 days)  growth (60 days)\n",
              "0.0               264.0               1\n",
              "1.4               7584.9              1\n",
              "1117.1            1107.1              1\n",
              "625.9             1251.8              1\n",
              "134.8             269.5               1\n",
              "87.5              174.9               1\n",
              "78.6              157.2               1\n",
              "76.2              152.4               1\n",
              "74.3              148.5               1\n",
              "41.3              235.8               1\n",
              "28.9              113.2               1\n",
              "17.1              5556.2              1\n",
              "8.4               1019.6              1\n",
              "5.7               121.1               1\n",
              "3.9               42875.2             1\n",
              "3.4               69441.4             1\n",
              "1.3               4012.8              1\n",
              "0.0               353.1               1\n",
              "1.2               6004.4              1\n",
              "                  630.8               1\n",
              "0.8               863.6               1\n",
              "0.7               426.0               1\n",
              "0.5               481.5               1\n",
              "0.4               718.2               1\n",
              "0.3               709.0               1\n",
              "0.2               41869.7             1\n",
              "                  498.5               1\n",
              "0.1               15483.9             1\n",
              "                  672.7               1\n",
              "                  516.9               1\n",
              "                  490.9               1\n",
              "                  251.7               1\n",
              "1358.2            2716.5              1\n",
              "dtype: int64"
            ]
          },
          "metadata": {},
          "execution_count": 32
        }
      ]
    },
    {
      "cell_type": "code",
      "source": [
        "len(df[df['growth (60 days)']>1000])"
      ],
      "metadata": {
        "colab": {
          "base_uri": "https://localhost:8080/"
        },
        "id": "HYV5EJTM3voM",
        "outputId": "37099526-b3b5-4f41-d02a-fecb78820c30"
      },
      "execution_count": 33,
      "outputs": [
        {
          "output_type": "execute_result",
          "data": {
            "text/plain": [
              "12"
            ]
          },
          "metadata": {},
          "execution_count": 33
        }
      ]
    },
    {
      "cell_type": "code",
      "source": [
        "len(df[df['growth (60 days)']>100])"
      ],
      "metadata": {
        "colab": {
          "base_uri": "https://localhost:8080/"
        },
        "id": "JHGpK5xK3zj0",
        "outputId": "db7869fc-a6ba-4b58-a251-dc990903b432"
      },
      "execution_count": 34,
      "outputs": [
        {
          "output_type": "execute_result",
          "data": {
            "text/plain": [
              "33"
            ]
          },
          "metadata": {},
          "execution_count": 34
        }
      ]
    },
    {
      "cell_type": "code",
      "source": [
        "df[df['growth (60 days)']<1000]['growth (60 days)'].plot();"
      ],
      "metadata": {
        "colab": {
          "base_uri": "https://localhost:8080/",
          "height": 265
        },
        "id": "QgnQIJED0qWd",
        "outputId": "02138329-9afc-488e-c76e-b8843462c1bf"
      },
      "execution_count": 35,
      "outputs": [
        {
          "output_type": "display_data",
          "data": {
            "image/png": "[encoded data removed]",
            "text/plain": [
              "<Figure size 432x288 with 1 Axes>"
            ]
          },
          "metadata": {
            "needs_background": "light"
          }
        }
      ]
    },
    {
      "cell_type": "code",
      "source": [
        "sns.boxplot(df[df['growth (60 days)']<1000]['growth (60 days)']);"
      ],
      "metadata": {
        "colab": {
          "base_uri": "https://localhost:8080/",
          "height": 334
        },
        "id": "LyaU3oDY1AQL",
        "outputId": "94653a46-7281-49d3-bb1e-bb0d7a228c47"
      },
      "execution_count": 36,
      "outputs": [
        {
          "output_type": "stream",
          "name": "stderr",
          "text": [
            "/usr/local/lib/python3.7/dist-packages/seaborn/_decorators.py:43: FutureWarning: Pass the following variable as a keyword arg: x. From version 0.12, the only valid positional argument will be `data`, and passing other arguments without an explicit keyword will result in an error or misinterpretation.\n",
            "  FutureWarning\n"
          ]
        },
        {
          "output_type": "display_data",
          "data": {
            "image/png": "[encoded data removed]",
            "text/plain": [
              "<Figure size 432x288 with 1 Axes>"
            ]
          },
          "metadata": {
            "needs_background": "light"
          }
        }
      ]
    },
    {
      "cell_type": "code",
      "source": [
        "df.columns"
      ],
      "metadata": {
        "colab": {
          "base_uri": "https://localhost:8080/"
        },
        "id": "3Q0t8EN91LQH",
        "outputId": "c3c70f83-7af0-4ba8-8b2f-12ba75b13c4c"
      },
      "execution_count": 37,
      "outputs": [
        {
          "output_type": "execute_result",
          "data": {
            "text/plain": [
              "Index(['rank', 'title', 'total ratings', 'installs', 'average rating',\n",
              "       'growth (30 days)', 'growth (60 days)', 'price', 'category',\n",
              "       '5 star ratings', '4 star ratings', '3 star ratings', '2 star ratings',\n",
              "       '1 star ratings', 'paid', 'installs_num', 'ratings_control',\n",
              "       'avg_ranking'],\n",
              "      dtype='object')"
            ]
          },
          "metadata": {},
          "execution_count": 37
        }
      ]
    },
    {
      "cell_type": "code",
      "source": [
        "df.price.value_counts(dropna=False)"
      ],
      "metadata": {
        "colab": {
          "base_uri": "https://localhost:8080/"
        },
        "id": "V5ZYe49q1s9q",
        "outputId": "063e31e9-684f-4904-abb6-f15663ede8fc"
      },
      "execution_count": 38,
      "outputs": [
        {
          "output_type": "execute_result",
          "data": {
            "text/plain": [
              "0.00    1723\n",
              "1.99       3\n",
              "7.49       1\n",
              "2.99       1\n",
              "1.49       1\n",
              "0.99       1\n",
              "Name: price, dtype: int64"
            ]
          },
          "metadata": {},
          "execution_count": 38
        }
      ]
    },
    {
      "cell_type": "code",
      "source": [
        "df.paid.value_counts(dropna=False)"
      ],
      "metadata": {
        "colab": {
          "base_uri": "https://localhost:8080/"
        },
        "id": "pz47gIMO1yvB",
        "outputId": "faf7f249-0b8c-440f-c253-32a154dfb16b"
      },
      "execution_count": 39,
      "outputs": [
        {
          "output_type": "execute_result",
          "data": {
            "text/plain": [
              "False    1723\n",
              "True        7\n",
              "Name: paid, dtype: int64"
            ]
          },
          "metadata": {},
          "execution_count": 39
        }
      ]
    },
    {
      "cell_type": "code",
      "source": [
        "df[df['growth (30 days)']<10]['growth (30 days)'].plot();"
      ],
      "metadata": {
        "colab": {
          "base_uri": "https://localhost:8080/",
          "height": 265
        },
        "id": "60dUbJBo4vh2",
        "outputId": "ac0c529e-65ba-4107-928b-c21eb4e3385d"
      },
      "execution_count": 40,
      "outputs": [
        {
          "output_type": "display_data",
          "data": {
            "image/png": "[encoded data removed]",
            "text/plain": [
              "<Figure size 432x288 with 1 Axes>"
            ]
          },
          "metadata": {
            "needs_background": "light"
          }
        }
      ]
    },
    {
      "cell_type": "markdown",
      "source": [
        "# Conclusion about the outliers ans null values\n",
        "It is seem that there is no null values in the columns. Also there is no unusual values in the columns except growth rates. In 'growth (30 days)', 'growth (60 days)' columns there are extreme growth rates such as 227000. Can these values be admitted as outlier? There are 72 values greater than 100 in 'growth (30 days)' and 33 values greater than 100 in 'growth (60 days)'. 4 values match so totaly 101 (5.83 % of total) games have growth rates (either 30 or 60 days) greater than 100. To categorize these columns can be helpful to visualize the data."
      ],
      "metadata": {
        "id": "N9bZWqU62D-v"
      }
    },
    {
      "cell_type": "markdown",
      "source": [
        "## Analysis by game category"
      ],
      "metadata": {
        "id": "jZdPF1KN7Hie"
      }
    },
    {
      "cell_type": "code",
      "source": [
        "df.sample(5)"
      ],
      "metadata": {
        "colab": {
          "base_uri": "https://localhost:8080/",
          "height": 478
        },
        "id": "80AI6XXw41g0",
        "outputId": "8c5c5c56-d5d3-4712-c6bd-df66b49d7ff6"
      },
      "execution_count": 41,
      "outputs": [
        {
          "output_type": "execute_result",
          "data": {
            "text/html": [
              "\n",
              "  <div id=\"df-cf4f125b-921f-45c5-981a-0901bb70ddf2\">\n",
              "    <div class=\"colab-df-container\">\n",
              "      <div>\n",
              "<style scoped>\n",
              "    .dataframe tbody tr th:only-of-type {\n",
              "        vertical-align: middle;\n",
              "    }\n",
              "\n",
              "    .dataframe tbody tr th {\n",
              "        vertical-align: top;\n",
              "    }\n",
              "\n",
              "    .dataframe thead th {\n",
              "        text-align: right;\n",
              "    }\n",
              "</style>\n",
              "<table border=\"1\" class=\"dataframe\">\n",
              "  <thead>\n",
              "    <tr style=\"text-align: right;\">\n",
              "      <th></th>\n",
              "      <th>rank</th>\n",
              "      <th>title</th>\n",
              "      <th>total ratings</th>\n",
              "      <th>installs</th>\n",
              "      <th>average rating</th>\n",
              "      <th>growth (30 days)</th>\n",
              "      <th>growth (60 days)</th>\n",
              "      <th>price</th>\n",
              "      <th>category</th>\n",
              "      <th>5 star ratings</th>\n",
              "      <th>4 star ratings</th>\n",
              "      <th>3 star ratings</th>\n",
              "      <th>2 star ratings</th>\n",
              "      <th>1 star ratings</th>\n",
              "      <th>paid</th>\n",
              "      <th>installs_num</th>\n",
              "      <th>ratings_control</th>\n",
              "      <th>avg_ranking</th>\n",
              "    </tr>\n",
              "  </thead>\n",
              "  <tbody>\n",
              "    <tr>\n",
              "      <th>380</th>\n",
              "      <td>81</td>\n",
              "      <td>Chess for Android</td>\n",
              "      <td>109162</td>\n",
              "      <td>10.0 M</td>\n",
              "      <td>4</td>\n",
              "      <td>0.0</td>\n",
              "      <td>0.1</td>\n",
              "      <td>0.0</td>\n",
              "      <td>BOARD</td>\n",
              "      <td>72559</td>\n",
              "      <td>13043</td>\n",
              "      <td>8357</td>\n",
              "      <td>3114</td>\n",
              "      <td>12088</td>\n",
              "      <td>False</td>\n",
              "      <td>10.0</td>\n",
              "      <td>1</td>\n",
              "      <td>4.198881</td>\n",
              "    </tr>\n",
              "    <tr>\n",
              "      <th>1729</th>\n",
              "      <td>100</td>\n",
              "      <td>Pinturillo 2</td>\n",
              "      <td>108917</td>\n",
              "      <td>10.0 M</td>\n",
              "      <td>3</td>\n",
              "      <td>1.1</td>\n",
              "      <td>2.5</td>\n",
              "      <td>0.0</td>\n",
              "      <td>WORD</td>\n",
              "      <td>50813</td>\n",
              "      <td>16480</td>\n",
              "      <td>11825</td>\n",
              "      <td>6166</td>\n",
              "      <td>23631</td>\n",
              "      <td>False</td>\n",
              "      <td>10.0</td>\n",
              "      <td>2</td>\n",
              "      <td>3.593839</td>\n",
              "    </tr>\n",
              "    <tr>\n",
              "      <th>846</th>\n",
              "      <td>21</td>\n",
              "      <td>Guitar Band Battle</td>\n",
              "      <td>237878</td>\n",
              "      <td>10.0 M</td>\n",
              "      <td>4</td>\n",
              "      <td>0.6</td>\n",
              "      <td>1.1</td>\n",
              "      <td>0.0</td>\n",
              "      <td>MUSIC</td>\n",
              "      <td>149371</td>\n",
              "      <td>35947</td>\n",
              "      <td>17998</td>\n",
              "      <td>8445</td>\n",
              "      <td>26114</td>\n",
              "      <td>False</td>\n",
              "      <td>10.0</td>\n",
              "      <td>3</td>\n",
              "      <td>4.151933</td>\n",
              "    </tr>\n",
              "    <tr>\n",
              "      <th>148</th>\n",
              "      <td>49</td>\n",
              "      <td>Crafting and Building</td>\n",
              "      <td>326177</td>\n",
              "      <td>10.0 M</td>\n",
              "      <td>4</td>\n",
              "      <td>11.7</td>\n",
              "      <td>27.8</td>\n",
              "      <td>0.0</td>\n",
              "      <td>ADVENTURE</td>\n",
              "      <td>248268</td>\n",
              "      <td>27790</td>\n",
              "      <td>11796</td>\n",
              "      <td>6681</td>\n",
              "      <td>31639</td>\n",
              "      <td>False</td>\n",
              "      <td>10.0</td>\n",
              "      <td>3</td>\n",
              "      <td>4.393020</td>\n",
              "    </tr>\n",
              "    <tr>\n",
              "      <th>1129</th>\n",
              "      <td>4</td>\n",
              "      <td>Flight Pilot Simulator 3D Free</td>\n",
              "      <td>2651253</td>\n",
              "      <td>100.0 M</td>\n",
              "      <td>4</td>\n",
              "      <td>965.5</td>\n",
              "      <td>0.9</td>\n",
              "      <td>0.0</td>\n",
              "      <td>ROLE PLAYING</td>\n",
              "      <td>1680842</td>\n",
              "      <td>413154</td>\n",
              "      <td>208205</td>\n",
              "      <td>85294</td>\n",
              "      <td>263756</td>\n",
              "      <td>False</td>\n",
              "      <td>100.0</td>\n",
              "      <td>2</td>\n",
              "      <td>4.192657</td>\n",
              "    </tr>\n",
              "  </tbody>\n",
              "</table>\n",
              "</div>\n",
              "      <button class=\"colab-df-convert\" onclick=\"convertToInteractive('df-cf4f125b-921f-45c5-981a-0901bb70ddf2')\"\n",
              "              title=\"Convert this dataframe to an interactive table.\"\n",
              "              style=\"display:none;\">\n",
              "        \n",
              "  <svg xmlns=\"http://www.w3.org/2000/svg\" height=\"24px\"viewBox=\"0 0 24 24\"\n",
              "       width=\"24px\">\n",
              "    <path d=\"M0 0h24v24H0V0z\" fill=\"none\"/>\n",
              "    <path d=\"M18.56 5.44l.94 2.06.94-2.06 2.06-.94-2.06-.94-.94-2.06-.94 2.06-2.06.94zm-11 1L8.5 8.5l.94-2.06 2.06-.94-2.06-.94L8.5 2.5l-.94 2.06-2.06.94zm10 10l.94 2.06.94-2.06 2.06-.94-2.06-.94-.94-2.06-.94 2.06-2.06.94z\"/><path d=\"M17.41 7.96l-1.37-1.37c-.4-.4-.92-.59-1.43-.59-.52 0-1.04.2-1.43.59L10.3 9.45l-7.72 7.72c-.78.78-.78 2.05 0 2.83L4 21.41c.39.39.9.59 1.41.59.51 0 1.02-.2 1.41-.59l7.78-7.78 2.81-2.81c.8-.78.8-2.07 0-2.86zM5.41 20L4 18.59l7.72-7.72 1.47 1.35L5.41 20z\"/>\n",
              "  </svg>\n",
              "      </button>\n",
              "      \n",
              "  <style>\n",
              "    .colab-df-container {\n",
              "      display:flex;\n",
              "      flex-wrap:wrap;\n",
              "      gap: 12px;\n",
              "    }\n",
              "\n",
              "    .colab-df-convert {\n",
              "      background-color: #E8F0FE;\n",
              "      border: none;\n",
              "      border-radius: 50%;\n",
              "      cursor: pointer;\n",
              "      display: none;\n",
              "      fill: #1967D2;\n",
              "      height: 32px;\n",
              "      padding: 0 0 0 0;\n",
              "      width: 32px;\n",
              "    }\n",
              "\n",
              "    .colab-df-convert:hover {\n",
              "      background-color: #E2EBFA;\n",
              "      box-shadow: 0px 1px 2px rgba(60, 64, 67, 0.3), 0px 1px 3px 1px rgba(60, 64, 67, 0.15);\n",
              "      fill: #174EA6;\n",
              "    }\n",
              "\n",
              "    [theme=dark] .colab-df-convert {\n",
              "      background-color: #3B4455;\n",
              "      fill: #D2E3FC;\n",
              "    }\n",
              "\n",
              "    [theme=dark] .colab-df-convert:hover {\n",
              "      background-color: #434B5C;\n",
              "      box-shadow: 0px 1px 3px 1px rgba(0, 0, 0, 0.15);\n",
              "      filter: drop-shadow(0px 1px 2px rgba(0, 0, 0, 0.3));\n",
              "      fill: #FFFFFF;\n",
              "    }\n",
              "  </style>\n",
              "\n",
              "      <script>\n",
              "        const buttonEl =\n",
              "          document.querySelector('#df-cf4f125b-921f-45c5-981a-0901bb70ddf2 button.colab-df-convert');\n",
              "        buttonEl.style.display =\n",
              "          google.colab.kernel.accessAllowed ? 'block' : 'none';\n",
              "\n",
              "        async function convertToInteractive(key) {\n",
              "          const element = document.querySelector('#df-cf4f125b-921f-45c5-981a-0901bb70ddf2');\n",
              "          const dataTable =\n",
              "            await google.colab.kernel.invokeFunction('convertToInteractive',\n",
              "                                                     [key], {});\n",
              "          if (!dataTable) return;\n",
              "\n",
              "          const docLinkHtml = 'Like what you see? Visit the ' +\n",
              "            '<a target=\"_blank\" href=https://colab.research.google.com/notebooks/data_table.ipynb>data table notebook</a>'\n",
              "            + ' to learn more about interactive tables.';\n",
              "          element.innerHTML = '';\n",
              "          dataTable['output_type'] = 'display_data';\n",
              "          await google.colab.output.renderOutput(dataTable, element);\n",
              "          const docLink = document.createElement('div');\n",
              "          docLink.innerHTML = docLinkHtml;\n",
              "          element.appendChild(docLink);\n",
              "        }\n",
              "      </script>\n",
              "    </div>\n",
              "  </div>\n",
              "  "
            ],
            "text/plain": [
              "      rank                           title  ...  ratings_control avg_ranking\n",
              "380     81               Chess for Android  ...                1    4.198881\n",
              "1729   100                    Pinturillo 2  ...                2    3.593839\n",
              "846     21              Guitar Band Battle  ...                3    4.151933\n",
              "148     49           Crafting and Building  ...                3    4.393020\n",
              "1129     4  Flight Pilot Simulator 3D Free  ...                2    4.192657\n",
              "\n",
              "[5 rows x 18 columns]"
            ]
          },
          "metadata": {},
          "execution_count": 41
        }
      ]
    },
    {
      "cell_type": "code",
      "source": [
        "df.groupby(\"category\")[[\"total ratings\", \"installs_num\", \"average rating\", \"avg_ranking\"]].mean()"
      ],
      "metadata": {
        "colab": {
          "base_uri": "https://localhost:8080/",
          "height": 614
        },
        "id": "VxmA8ga77gRp",
        "outputId": "ba04540b-e91b-4555-d412-62071bd5d39b"
      },
      "execution_count": 42,
      "outputs": [
        {
          "output_type": "execute_result",
          "data": {
            "text/html": [
              "\n",
              "  <div id=\"df-b440b7f9-c5d4-4025-a4d7-a49211e20f3f\">\n",
              "    <div class=\"colab-df-container\">\n",
              "      <div>\n",
              "<style scoped>\n",
              "    .dataframe tbody tr th:only-of-type {\n",
              "        vertical-align: middle;\n",
              "    }\n",
              "\n",
              "    .dataframe tbody tr th {\n",
              "        vertical-align: top;\n",
              "    }\n",
              "\n",
              "    .dataframe thead th {\n",
              "        text-align: right;\n",
              "    }\n",
              "</style>\n",
              "<table border=\"1\" class=\"dataframe\">\n",
              "  <thead>\n",
              "    <tr style=\"text-align: right;\">\n",
              "      <th></th>\n",
              "      <th>total ratings</th>\n",
              "      <th>installs_num</th>\n",
              "      <th>average rating</th>\n",
              "      <th>avg_ranking</th>\n",
              "    </tr>\n",
              "    <tr>\n",
              "      <th>category</th>\n",
              "      <th></th>\n",
              "      <th></th>\n",
              "      <th></th>\n",
              "      <th></th>\n",
              "    </tr>\n",
              "  </thead>\n",
              "  <tbody>\n",
              "    <tr>\n",
              "      <th>ACTION</th>\n",
              "      <td>4.011344e+06</td>\n",
              "      <td>74.100000</td>\n",
              "      <td>3.890000</td>\n",
              "      <td>4.258145</td>\n",
              "    </tr>\n",
              "    <tr>\n",
              "      <th>ADVENTURE</th>\n",
              "      <td>8.935617e+05</td>\n",
              "      <td>18.030000</td>\n",
              "      <td>3.850000</td>\n",
              "      <td>4.263985</td>\n",
              "    </tr>\n",
              "    <tr>\n",
              "      <th>ARCADE</th>\n",
              "      <td>1.793780e+06</td>\n",
              "      <td>71.610000</td>\n",
              "      <td>3.910000</td>\n",
              "      <td>4.294111</td>\n",
              "    </tr>\n",
              "    <tr>\n",
              "      <th>BOARD</th>\n",
              "      <td>4.457431e+05</td>\n",
              "      <td>21.230000</td>\n",
              "      <td>3.930000</td>\n",
              "      <td>4.330607</td>\n",
              "    </tr>\n",
              "    <tr>\n",
              "      <th>CARD</th>\n",
              "      <td>3.326041e+05</td>\n",
              "      <td>12.484127</td>\n",
              "      <td>3.936508</td>\n",
              "      <td>4.422010</td>\n",
              "    </tr>\n",
              "    <tr>\n",
              "      <th>CASINO</th>\n",
              "      <td>3.619031e+05</td>\n",
              "      <td>7.715000</td>\n",
              "      <td>3.950000</td>\n",
              "      <td>4.449610</td>\n",
              "    </tr>\n",
              "    <tr>\n",
              "      <th>CASUAL</th>\n",
              "      <td>2.470866e+06</td>\n",
              "      <td>63.970000</td>\n",
              "      <td>3.950000</td>\n",
              "      <td>4.346847</td>\n",
              "    </tr>\n",
              "    <tr>\n",
              "      <th>EDUCATIONAL</th>\n",
              "      <td>1.529804e+05</td>\n",
              "      <td>17.895000</td>\n",
              "      <td>3.890000</td>\n",
              "      <td>4.253514</td>\n",
              "    </tr>\n",
              "    <tr>\n",
              "      <th>MUSIC</th>\n",
              "      <td>2.163020e+05</td>\n",
              "      <td>12.487000</td>\n",
              "      <td>3.800000</td>\n",
              "      <td>4.198792</td>\n",
              "    </tr>\n",
              "    <tr>\n",
              "      <th>PUZZLE</th>\n",
              "      <td>9.466929e+05</td>\n",
              "      <td>36.210000</td>\n",
              "      <td>3.940000</td>\n",
              "      <td>4.391775</td>\n",
              "    </tr>\n",
              "    <tr>\n",
              "      <th>RACING</th>\n",
              "      <td>1.139027e+06</td>\n",
              "      <td>46.750000</td>\n",
              "      <td>3.960000</td>\n",
              "      <td>4.302086</td>\n",
              "    </tr>\n",
              "    <tr>\n",
              "      <th>ROLE PLAYING</th>\n",
              "      <td>7.087648e+05</td>\n",
              "      <td>14.080000</td>\n",
              "      <td>3.890000</td>\n",
              "      <td>4.292581</td>\n",
              "    </tr>\n",
              "    <tr>\n",
              "      <th>SIMULATION</th>\n",
              "      <td>9.341417e+05</td>\n",
              "      <td>27.710000</td>\n",
              "      <td>3.940000</td>\n",
              "      <td>4.319709</td>\n",
              "    </tr>\n",
              "    <tr>\n",
              "      <th>SPORTS</th>\n",
              "      <td>1.353829e+06</td>\n",
              "      <td>33.610000</td>\n",
              "      <td>3.920000</td>\n",
              "      <td>4.258656</td>\n",
              "    </tr>\n",
              "    <tr>\n",
              "      <th>STRATEGY</th>\n",
              "      <td>1.856570e+06</td>\n",
              "      <td>23.910000</td>\n",
              "      <td>3.880000</td>\n",
              "      <td>4.264237</td>\n",
              "    </tr>\n",
              "    <tr>\n",
              "      <th>TRIVIA</th>\n",
              "      <td>2.982217e+05</td>\n",
              "      <td>6.901000</td>\n",
              "      <td>3.850000</td>\n",
              "      <td>4.287072</td>\n",
              "    </tr>\n",
              "    <tr>\n",
              "      <th>WORD</th>\n",
              "      <td>3.943603e+05</td>\n",
              "      <td>12.317308</td>\n",
              "      <td>3.942308</td>\n",
              "      <td>4.444007</td>\n",
              "    </tr>\n",
              "  </tbody>\n",
              "</table>\n",
              "</div>\n",
              "      <button class=\"colab-df-convert\" onclick=\"convertToInteractive('df-b440b7f9-c5d4-4025-a4d7-a49211e20f3f')\"\n",
              "              title=\"Convert this dataframe to an interactive table.\"\n",
              "              style=\"display:none;\">\n",
              "        \n",
              "  <svg xmlns=\"http://www.w3.org/2000/svg\" height=\"24px\"viewBox=\"0 0 24 24\"\n",
              "       width=\"24px\">\n",
              "    <path d=\"M0 0h24v24H0V0z\" fill=\"none\"/>\n",
              "    <path d=\"M18.56 5.44l.94 2.06.94-2.06 2.06-.94-2.06-.94-.94-2.06-.94 2.06-2.06.94zm-11 1L8.5 8.5l.94-2.06 2.06-.94-2.06-.94L8.5 2.5l-.94 2.06-2.06.94zm10 10l.94 2.06.94-2.06 2.06-.94-2.06-.94-.94-2.06-.94 2.06-2.06.94z\"/><path d=\"M17.41 7.96l-1.37-1.37c-.4-.4-.92-.59-1.43-.59-.52 0-1.04.2-1.43.59L10.3 9.45l-7.72 7.72c-.78.78-.78 2.05 0 2.83L4 21.41c.39.39.9.59 1.41.59.51 0 1.02-.2 1.41-.59l7.78-7.78 2.81-2.81c.8-.78.8-2.07 0-2.86zM5.41 20L4 18.59l7.72-7.72 1.47 1.35L5.41 20z\"/>\n",
              "  </svg>\n",
              "      </button>\n",
              "      \n",
              "  <style>\n",
              "    .colab-df-container {\n",
              "      display:flex;\n",
              "      flex-wrap:wrap;\n",
              "      gap: 12px;\n",
              "    }\n",
              "\n",
              "    .colab-df-convert {\n",
              "      background-color: #E8F0FE;\n",
              "      border: none;\n",
              "      border-radius: 50%;\n",
              "      cursor: pointer;\n",
              "      display: none;\n",
              "      fill: #1967D2;\n",
              "      height: 32px;\n",
              "      padding: 0 0 0 0;\n",
              "      width: 32px;\n",
              "    }\n",
              "\n",
              "    .colab-df-convert:hover {\n",
              "      background-color: #E2EBFA;\n",
              "      box-shadow: 0px 1px 2px rgba(60, 64, 67, 0.3), 0px 1px 3px 1px rgba(60, 64, 67, 0.15);\n",
              "      fill: #174EA6;\n",
              "    }\n",
              "\n",
              "    [theme=dark] .colab-df-convert {\n",
              "      background-color: #3B4455;\n",
              "      fill: #D2E3FC;\n",
              "    }\n",
              "\n",
              "    [theme=dark] .colab-df-convert:hover {\n",
              "      background-color: #434B5C;\n",
              "      box-shadow: 0px 1px 3px 1px rgba(0, 0, 0, 0.15);\n",
              "      filter: drop-shadow(0px 1px 2px rgba(0, 0, 0, 0.3));\n",
              "      fill: #FFFFFF;\n",
              "    }\n",
              "  </style>\n",
              "\n",
              "      <script>\n",
              "        const buttonEl =\n",
              "          document.querySelector('#df-b440b7f9-c5d4-4025-a4d7-a49211e20f3f button.colab-df-convert');\n",
              "        buttonEl.style.display =\n",
              "          google.colab.kernel.accessAllowed ? 'block' : 'none';\n",
              "\n",
              "        async function convertToInteractive(key) {\n",
              "          const element = document.querySelector('#df-b440b7f9-c5d4-4025-a4d7-a49211e20f3f');\n",
              "          const dataTable =\n",
              "            await google.colab.kernel.invokeFunction('convertToInteractive',\n",
              "                                                     [key], {});\n",
              "          if (!dataTable) return;\n",
              "\n",
              "          const docLinkHtml = 'Like what you see? Visit the ' +\n",
              "            '<a target=\"_blank\" href=https://colab.research.google.com/notebooks/data_table.ipynb>data table notebook</a>'\n",
              "            + ' to learn more about interactive tables.';\n",
              "          element.innerHTML = '';\n",
              "          dataTable['output_type'] = 'display_data';\n",
              "          await google.colab.output.renderOutput(dataTable, element);\n",
              "          const docLink = document.createElement('div');\n",
              "          docLink.innerHTML = docLinkHtml;\n",
              "          element.appendChild(docLink);\n",
              "        }\n",
              "      </script>\n",
              "    </div>\n",
              "  </div>\n",
              "  "
            ],
            "text/plain": [
              "              total ratings  installs_num  average rating  avg_ranking\n",
              "category                                                              \n",
              "ACTION         4.011344e+06     74.100000        3.890000     4.258145\n",
              "ADVENTURE      8.935617e+05     18.030000        3.850000     4.263985\n",
              "ARCADE         1.793780e+06     71.610000        3.910000     4.294111\n",
              "BOARD          4.457431e+05     21.230000        3.930000     4.330607\n",
              "CARD           3.326041e+05     12.484127        3.936508     4.422010\n",
              "CASINO         3.619031e+05      7.715000        3.950000     4.449610\n",
              "CASUAL         2.470866e+06     63.970000        3.950000     4.346847\n",
              "EDUCATIONAL    1.529804e+05     17.895000        3.890000     4.253514\n",
              "MUSIC          2.163020e+05     12.487000        3.800000     4.198792\n",
              "PUZZLE         9.466929e+05     36.210000        3.940000     4.391775\n",
              "RACING         1.139027e+06     46.750000        3.960000     4.302086\n",
              "ROLE PLAYING   7.087648e+05     14.080000        3.890000     4.292581\n",
              "SIMULATION     9.341417e+05     27.710000        3.940000     4.319709\n",
              "SPORTS         1.353829e+06     33.610000        3.920000     4.258656\n",
              "STRATEGY       1.856570e+06     23.910000        3.880000     4.264237\n",
              "TRIVIA         2.982217e+05      6.901000        3.850000     4.287072\n",
              "WORD           3.943603e+05     12.317308        3.942308     4.444007"
            ]
          },
          "metadata": {},
          "execution_count": 42
        }
      ]
    },
    {
      "cell_type": "code",
      "source": [
        "plt.figure(figsize=(15,6))\n",
        "sns.barplot(x=\"category\", y=\"total ratings\", data=df,\n",
        "            order=df.groupby(\"category\")[\"total ratings\"].mean().sort_values(ascending=False).index)\n",
        "plt.xlabel(\"Category\", color=\"blue\", fontsize=15)\n",
        "plt.ylabel(\"Total Ratings\", color=\"blue\", fontsize=15)\n",
        "plt.title(\"Total Ratings ~ Category Bar Chart\", color=\"blue\", fontsize=18)\n",
        "plt.xticks(rotation=45);"
      ],
      "metadata": {
        "colab": {
          "base_uri": "https://localhost:8080/",
          "height": 461
        },
        "id": "csL7CC7I8Fom",
        "outputId": "0815248e-fe74-4055-d8f4-020be8c3f4cf"
      },
      "execution_count": 43,
      "outputs": [
        {
          "output_type": "display_data",
          "data": {
            "image/png": "[encoded data removed]",
            "text/plain": [
              "<Figure size 1080x432 with 1 Axes>"
            ]
          },
          "metadata": {
            "needs_background": "light"
          }
        }
      ]
    },
    {
      "cell_type": "markdown",
      "source": [
        "It is seem that categories with high total ratings are \"action\", \"casual\", \"strategy\" and \"arcade\". However, categories with low total ratings are \"educational\" and \"music\" categories. "
      ],
      "metadata": {
        "id": "RFR4VtNPBQB6"
      }
    },
    {
      "cell_type": "code",
      "source": [
        "plt.figure(figsize=(15,6))\n",
        "sns.barplot(x=\"category\", y=\"installs_num\", data=df,\n",
        "            order=df.groupby(\"category\")[\"installs_num\"].mean().sort_values(ascending=False).index)\n",
        "plt.xlabel(\"Category\", color=\"blue\", fontsize=15)\n",
        "plt.ylabel(\"Installs(Million)\", color=\"blue\", fontsize=15)\n",
        "plt.title(\"Installs ~ Category Bar Chart\", color=\"blue\", fontsize=18)\n",
        "plt.xticks(rotation=45);"
      ],
      "metadata": {
        "colab": {
          "base_uri": "https://localhost:8080/",
          "height": 461
        },
        "id": "a3lAcdP_-Z8t",
        "outputId": "1393a9bf-dd71-4986-d970-9765707db503"
      },
      "execution_count": 44,
      "outputs": [
        {
          "output_type": "display_data",
          "data": {
            "image/png": "[encoded data removed]",
            "text/plain": [
              "<Figure size 1080x432 with 1 Axes>"
            ]
          },
          "metadata": {
            "needs_background": "light"
          }
        }
      ]
    },
    {
      "cell_type": "markdown",
      "source": [
        "Install numbers are like total ratings. Categories with high installs are \"action\", \"arcade\", \"casual\" and \"racing\". However, categories with low installs are \"casino\" and \"trivia\" categories. While the total ratings of strategy games are high, installs number of strategy games are not high as much as ratings. "
      ],
      "metadata": {
        "id": "kqiXIlJSC2gl"
      }
    },
    {
      "cell_type": "code",
      "source": [
        "fig, ax = plt.subplots(figsize=(15,6))\n",
        "ax = sns.lineplot(x=\"category\", y=\"total ratings\", data=df,ci=None, label=\"Total Ratings\")\n",
        "ax = sns.lineplot(x=\"category\", y=df[\"installs_num\"]*100000, data=df,ci=None, label=\"Installs/10\")\n",
        "plt.legend()\n",
        "plt.title(\"Average Ratings ~ Category Bar Chart\", color=\"blue\", fontsize=18)\n",
        "plt.xticks(rotation=45);"
      ],
      "metadata": {
        "colab": {
          "base_uri": "https://localhost:8080/",
          "height": 456
        },
        "id": "plTLl2_3u8cy",
        "outputId": "33a7bc0b-c909-457b-e6c9-4dbd232abe37"
      },
      "execution_count": 66,
      "outputs": [
        {
          "output_type": "display_data",
          "data": {
            "image/png": "[encoded data removed]",
            "text/plain": [
              "<Figure size 1080x432 with 1 Axes>"
            ]
          },
          "metadata": {
            "needs_background": "light"
          }
        }
      ]
    },
    {
      "cell_type": "code",
      "source": [
        "plt.figure(figsize=(15,6))\n",
        "sns.lineplot(x=\"category\", y=\"average rating\", data=df,ci=None)\n",
        "plt.xlabel(\"Category\", color=\"blue\", fontsize=15)\n",
        "plt.ylabel(\"Average Ratings\", color=\"blue\", fontsize=15)\n",
        "plt.title(\"Average Ratings ~ Category Bar Chart\", color=\"blue\", fontsize=18)\n",
        "plt.xticks(rotation=45);"
      ],
      "metadata": {
        "colab": {
          "base_uri": "https://localhost:8080/",
          "height": 461
        },
        "id": "BPhBMMrUUAqc",
        "outputId": "b9f0b3ea-a2d0-4b09-8a73-40a00cef87fe"
      },
      "execution_count": 49,
      "outputs": [
        {
          "output_type": "display_data",
          "data": {
            "image/png": "[encoded data removed]",
            "text/plain": [
              "<Figure size 1080x432 with 1 Axes>"
            ]
          },
          "metadata": {
            "needs_background": "light"
          }
        }
      ]
    },
    {
      "cell_type": "code",
      "source": [
        "plt.figure(figsize=(15,6))\n",
        "sns.lineplot(x=\"category\", y=\"avg_ranking\", data=df,ci=None)\n",
        "plt.xlabel(\"Category\", color=\"blue\", fontsize=15)\n",
        "plt.ylabel(\"Average Star Ratings\", color=\"blue\", fontsize=15)\n",
        "plt.title(\"Average Star Ratings ~ Category Bar Chart\", color=\"blue\", fontsize=18)\n",
        "plt.xticks(rotation=45);"
      ],
      "metadata": {
        "colab": {
          "base_uri": "https://localhost:8080/",
          "height": 461
        },
        "id": "orOTRfOAGikc",
        "outputId": "f0e33cd2-ba06-4b91-c83d-972cbf1a2163"
      },
      "execution_count": 45,
      "outputs": [
        {
          "output_type": "display_data",
          "data": {
            "image/png": "[encoded data removed]",
            "text/plain": [
              "<Figure size 1080x432 with 1 Axes>"
            ]
          },
          "metadata": {
            "needs_background": "light"
          }
        }
      ]
    },
    {
      "cell_type": "markdown",
      "source": [
        "Average star ratings of categories is very close to each other and between 4.20 and 4.45. However, categories with highest average star ratings are \"casino\" and \"word and category with lowest average star ratings is \"music\".:"
      ],
      "metadata": {
        "id": "VwJ0ExB6HRfz"
      }
    },
    {
      "cell_type": "code",
      "source": [
        "plt.figure(figsize=(15,6))\n",
        "sns.barplot(x=\"category\", y=\"growth (30 days)\", data=df, ci=None,\n",
        "            order=df.groupby(\"category\")[\"growth (30 days)\"].mean().sort_values(ascending=False).index)\n",
        "plt.xlabel(\"Category\", color=\"blue\", fontsize=15)\n",
        "plt.ylabel(\"Growth (30 days)\", color=\"blue\", fontsize=15)\n",
        "plt.title(\"Growth (30 days) ~ Category Bar Chart\", color=\"blue\", fontsize=18)\n",
        "plt.xticks(rotation=45);"
      ],
      "metadata": {
        "colab": {
          "base_uri": "https://localhost:8080/",
          "height": 461
        },
        "id": "fe6kcOWhIlWa",
        "outputId": "205cca5d-b2f2-4aac-879d-681e4d0cd739"
      },
      "execution_count": 46,
      "outputs": [
        {
          "output_type": "display_data",
          "data": {
            "image/png": "[encoded data removed]",
            "text/plain": [
              "<Figure size 1080x432 with 1 Axes>"
            ]
          },
          "metadata": {
            "needs_background": "light"
          }
        }
      ]
    },
    {
      "cell_type": "code",
      "source": [
        "plt.figure(figsize=(15,6))\n",
        "sns.barplot(x=\"category\", y=\"growth (30 days)\", data=df[df[\"growth (30 days)\"]<100], ci=None,\n",
        "            order=df[df[\"growth (30 days)\"]<100].groupby(\"category\")[\"growth (30 days)\"].mean().sort_values(ascending=False).index)\n",
        "plt.xlabel(\"Category\", color=\"blue\", fontsize=15)\n",
        "plt.ylabel(\"Growth (30 days) (Only Less Than 100)\", color=\"blue\", fontsize=15)\n",
        "plt.title(\"Growth (30 days)<100 ~ Category Bar Chart\", color=\"blue\", fontsize=18)\n",
        "plt.xticks(rotation=45);"
      ],
      "metadata": {
        "colab": {
          "base_uri": "https://localhost:8080/",
          "height": 461
        },
        "id": "Exxxb1yqJfVX",
        "outputId": "f5784e32-3294-4671-b1ec-0f1ef65a786c"
      },
      "execution_count": 47,
      "outputs": [
        {
          "output_type": "display_data",
          "data": {
            "image/png": "[encoded data removed]",
            "text/plain": [
              "<Figure size 1080x432 with 1 Axes>"
            ]
          },
          "metadata": {
            "needs_background": "light"
          }
        }
      ]
    },
    {
      "cell_type": "markdown",
      "source": [
        "The highest growth rates are in the categories \"casino\", \"trivia\" and \"card\". If we restrict the growth rate in the interval [0,100], all the growth rates are smaller than 4 and the highest growth rate is in \"education\" category."
      ],
      "metadata": {
        "id": "ID1lMTkdsEm-"
      }
    },
    {
      "cell_type": "code",
      "source": [
        "plt.figure(figsize=(15,6))\n",
        "sns.barplot(x=\"category\", y=\"growth (60 days)\", data=df, ci=None,\n",
        "            order=df.groupby(\"category\")[\"growth (60 days)\"].mean().sort_values(ascending=False).index)\n",
        "plt.xlabel(\"Category\", color=\"blue\", fontsize=15)\n",
        "plt.ylabel(\"Growth (60 days)\", color=\"blue\", fontsize=15)\n",
        "plt.title(\"Growth (60 days) ~ Category Bar Chart\", color=\"blue\", fontsize=18)\n",
        "plt.xticks(rotation=45);"
      ],
      "metadata": {
        "colab": {
          "base_uri": "https://localhost:8080/",
          "height": 461
        },
        "id": "X9gg4ycNI7oH",
        "outputId": "52adf62b-74c8-4e44-a120-7900b868c856"
      },
      "execution_count": 113,
      "outputs": [
        {
          "output_type": "display_data",
          "data": {
            "image/png": "[encoded data removed]",
            "text/plain": [
              "<Figure size 1080x432 with 1 Axes>"
            ]
          },
          "metadata": {
            "needs_background": "light"
          }
        }
      ]
    },
    {
      "cell_type": "code",
      "source": [
        "plt.figure(figsize=(15,6))\n",
        "sns.barplot(x=\"category\", y=\"growth (60 days)\", data=df[df[\"growth (60 days)\"]<100], ci=None,\n",
        "            order=df[df[\"growth (60 days)\"]<100].groupby(\"category\")[\"growth (60 days)\"].mean().sort_values(ascending=False).index)\n",
        "plt.xlabel(\"Category\", color=\"blue\", fontsize=15)\n",
        "plt.ylabel(\"Growth (60 days) (Only Less Than 100)\", color=\"blue\", fontsize=15)\n",
        "plt.title(\"Growth (60 days)<100 ~ Category Bar Chart\", color=\"blue\", fontsize=18)\n",
        "plt.xticks(rotation=45);"
      ],
      "metadata": {
        "colab": {
          "base_uri": "https://localhost:8080/",
          "height": 461
        },
        "id": "JV9fpYIcPgtn",
        "outputId": "77aba823-216a-4c0c-f180-f69ae56085d2"
      },
      "execution_count": 48,
      "outputs": [
        {
          "output_type": "display_data",
          "data": {
            "image/png": "[encoded data removed]",
            "text/plain": [
              "<Figure size 1080x432 with 1 Axes>"
            ]
          },
          "metadata": {
            "needs_background": "light"
          }
        }
      ]
    },
    {
      "cell_type": "markdown",
      "source": [
        "The highest growth rates (60 days) are in the categories \"board\", \"card\" and \"strategy\". Although the 30 days growth rate of \"casino\" category is the highest, the 60 days growth rate of \"casino\" category is the lowest. This is interesting. If we restrict the 60 days growth rate in the interval [0,100], all the growth rates are smaller than 7 and the highest growth rate is in \"education\" category."
      ],
      "metadata": {
        "id": "_03DITfJtX0O"
      }
    },
    {
      "cell_type": "markdown",
      "source": [
        "# Paid Column\n",
        "There are only 7 paid games. Therefore, analysis of games according to the prices is no meaning."
      ],
      "metadata": {
        "id": "n2MxsAL2zRvI"
      }
    },
    {
      "cell_type": "code",
      "source": [
        "df.paid.value_counts()"
      ],
      "metadata": {
        "colab": {
          "base_uri": "https://localhost:8080/"
        },
        "id": "cpuN8qR6zKZt",
        "outputId": "e95417f4-83c8-4caa-b360-917236c5faff"
      },
      "execution_count": 68,
      "outputs": [
        {
          "output_type": "execute_result",
          "data": {
            "text/plain": [
              "False    1723\n",
              "True        7\n",
              "Name: paid, dtype: int64"
            ]
          },
          "metadata": {},
          "execution_count": 68
        }
      ]
    },
    {
      "cell_type": "code",
      "source": [
        "df.groupby(\"category\")[[\"paid\"]].sum()"
      ],
      "metadata": {
        "colab": {
          "base_uri": "https://localhost:8080/",
          "height": 614
        },
        "id": "4QDpn7p2G1ri",
        "outputId": "1e759919-e12d-46fc-c536-dcfb36926660"
      },
      "execution_count": 110,
      "outputs": [
        {
          "output_type": "execute_result",
          "data": {
            "text/html": [
              "\n",
              "  <div id=\"df-9a9de017-9f69-496e-94ff-fa4cd3172bea\">\n",
              "    <div class=\"colab-df-container\">\n",
              "      <div>\n",
              "<style scoped>\n",
              "    .dataframe tbody tr th:only-of-type {\n",
              "        vertical-align: middle;\n",
              "    }\n",
              "\n",
              "    .dataframe tbody tr th {\n",
              "        vertical-align: top;\n",
              "    }\n",
              "\n",
              "    .dataframe thead th {\n",
              "        text-align: right;\n",
              "    }\n",
              "</style>\n",
              "<table border=\"1\" class=\"dataframe\">\n",
              "  <thead>\n",
              "    <tr style=\"text-align: right;\">\n",
              "      <th></th>\n",
              "      <th>paid</th>\n",
              "    </tr>\n",
              "    <tr>\n",
              "      <th>category</th>\n",
              "      <th></th>\n",
              "    </tr>\n",
              "  </thead>\n",
              "  <tbody>\n",
              "    <tr>\n",
              "      <th>ACTION</th>\n",
              "      <td>0</td>\n",
              "    </tr>\n",
              "    <tr>\n",
              "      <th>ADVENTURE</th>\n",
              "      <td>0</td>\n",
              "    </tr>\n",
              "    <tr>\n",
              "      <th>ARCADE</th>\n",
              "      <td>2</td>\n",
              "    </tr>\n",
              "    <tr>\n",
              "      <th>BOARD</th>\n",
              "      <td>0</td>\n",
              "    </tr>\n",
              "    <tr>\n",
              "      <th>CARD</th>\n",
              "      <td>1</td>\n",
              "    </tr>\n",
              "    <tr>\n",
              "      <th>CASINO</th>\n",
              "      <td>0</td>\n",
              "    </tr>\n",
              "    <tr>\n",
              "      <th>CASUAL</th>\n",
              "      <td>0</td>\n",
              "    </tr>\n",
              "    <tr>\n",
              "      <th>EDUCATIONAL</th>\n",
              "      <td>0</td>\n",
              "    </tr>\n",
              "    <tr>\n",
              "      <th>MUSIC</th>\n",
              "      <td>2</td>\n",
              "    </tr>\n",
              "    <tr>\n",
              "      <th>PUZZLE</th>\n",
              "      <td>0</td>\n",
              "    </tr>\n",
              "    <tr>\n",
              "      <th>RACING</th>\n",
              "      <td>0</td>\n",
              "    </tr>\n",
              "    <tr>\n",
              "      <th>ROLE PLAYING</th>\n",
              "      <td>1</td>\n",
              "    </tr>\n",
              "    <tr>\n",
              "      <th>SIMULATION</th>\n",
              "      <td>0</td>\n",
              "    </tr>\n",
              "    <tr>\n",
              "      <th>SPORTS</th>\n",
              "      <td>0</td>\n",
              "    </tr>\n",
              "    <tr>\n",
              "      <th>STRATEGY</th>\n",
              "      <td>0</td>\n",
              "    </tr>\n",
              "    <tr>\n",
              "      <th>TRIVIA</th>\n",
              "      <td>1</td>\n",
              "    </tr>\n",
              "    <tr>\n",
              "      <th>WORD</th>\n",
              "      <td>0</td>\n",
              "    </tr>\n",
              "  </tbody>\n",
              "</table>\n",
              "</div>\n",
              "      <button class=\"colab-df-convert\" onclick=\"convertToInteractive('df-9a9de017-9f69-496e-94ff-fa4cd3172bea')\"\n",
              "              title=\"Convert this dataframe to an interactive table.\"\n",
              "              style=\"display:none;\">\n",
              "        \n",
              "  <svg xmlns=\"http://www.w3.org/2000/svg\" height=\"24px\"viewBox=\"0 0 24 24\"\n",
              "       width=\"24px\">\n",
              "    <path d=\"M0 0h24v24H0V0z\" fill=\"none\"/>\n",
              "    <path d=\"M18.56 5.44l.94 2.06.94-2.06 2.06-.94-2.06-.94-.94-2.06-.94 2.06-2.06.94zm-11 1L8.5 8.5l.94-2.06 2.06-.94-2.06-.94L8.5 2.5l-.94 2.06-2.06.94zm10 10l.94 2.06.94-2.06 2.06-.94-2.06-.94-.94-2.06-.94 2.06-2.06.94z\"/><path d=\"M17.41 7.96l-1.37-1.37c-.4-.4-.92-.59-1.43-.59-.52 0-1.04.2-1.43.59L10.3 9.45l-7.72 7.72c-.78.78-.78 2.05 0 2.83L4 21.41c.39.39.9.59 1.41.59.51 0 1.02-.2 1.41-.59l7.78-7.78 2.81-2.81c.8-.78.8-2.07 0-2.86zM5.41 20L4 18.59l7.72-7.72 1.47 1.35L5.41 20z\"/>\n",
              "  </svg>\n",
              "      </button>\n",
              "      \n",
              "  <style>\n",
              "    .colab-df-container {\n",
              "      display:flex;\n",
              "      flex-wrap:wrap;\n",
              "      gap: 12px;\n",
              "    }\n",
              "\n",
              "    .colab-df-convert {\n",
              "      background-color: #E8F0FE;\n",
              "      border: none;\n",
              "      border-radius: 50%;\n",
              "      cursor: pointer;\n",
              "      display: none;\n",
              "      fill: #1967D2;\n",
              "      height: 32px;\n",
              "      padding: 0 0 0 0;\n",
              "      width: 32px;\n",
              "    }\n",
              "\n",
              "    .colab-df-convert:hover {\n",
              "      background-color: #E2EBFA;\n",
              "      box-shadow: 0px 1px 2px rgba(60, 64, 67, 0.3), 0px 1px 3px 1px rgba(60, 64, 67, 0.15);\n",
              "      fill: #174EA6;\n",
              "    }\n",
              "\n",
              "    [theme=dark] .colab-df-convert {\n",
              "      background-color: #3B4455;\n",
              "      fill: #D2E3FC;\n",
              "    }\n",
              "\n",
              "    [theme=dark] .colab-df-convert:hover {\n",
              "      background-color: #434B5C;\n",
              "      box-shadow: 0px 1px 3px 1px rgba(0, 0, 0, 0.15);\n",
              "      filter: drop-shadow(0px 1px 2px rgba(0, 0, 0, 0.3));\n",
              "      fill: #FFFFFF;\n",
              "    }\n",
              "  </style>\n",
              "\n",
              "      <script>\n",
              "        const buttonEl =\n",
              "          document.querySelector('#df-9a9de017-9f69-496e-94ff-fa4cd3172bea button.colab-df-convert');\n",
              "        buttonEl.style.display =\n",
              "          google.colab.kernel.accessAllowed ? 'block' : 'none';\n",
              "\n",
              "        async function convertToInteractive(key) {\n",
              "          const element = document.querySelector('#df-9a9de017-9f69-496e-94ff-fa4cd3172bea');\n",
              "          const dataTable =\n",
              "            await google.colab.kernel.invokeFunction('convertToInteractive',\n",
              "                                                     [key], {});\n",
              "          if (!dataTable) return;\n",
              "\n",
              "          const docLinkHtml = 'Like what you see? Visit the ' +\n",
              "            '<a target=\"_blank\" href=https://colab.research.google.com/notebooks/data_table.ipynb>data table notebook</a>'\n",
              "            + ' to learn more about interactive tables.';\n",
              "          element.innerHTML = '';\n",
              "          dataTable['output_type'] = 'display_data';\n",
              "          await google.colab.output.renderOutput(dataTable, element);\n",
              "          const docLink = document.createElement('div');\n",
              "          docLink.innerHTML = docLinkHtml;\n",
              "          element.appendChild(docLink);\n",
              "        }\n",
              "      </script>\n",
              "    </div>\n",
              "  </div>\n",
              "  "
            ],
            "text/plain": [
              "              paid\n",
              "category          \n",
              "ACTION           0\n",
              "ADVENTURE        0\n",
              "ARCADE           2\n",
              "BOARD            0\n",
              "CARD             1\n",
              "CASINO           0\n",
              "CASUAL           0\n",
              "EDUCATIONAL      0\n",
              "MUSIC            2\n",
              "PUZZLE           0\n",
              "RACING           0\n",
              "ROLE PLAYING     1\n",
              "SIMULATION       0\n",
              "SPORTS           0\n",
              "STRATEGY         0\n",
              "TRIVIA           1\n",
              "WORD             0"
            ]
          },
          "metadata": {},
          "execution_count": 110
        }
      ]
    },
    {
      "cell_type": "code",
      "source": [
        "df.columns"
      ],
      "metadata": {
        "colab": {
          "base_uri": "https://localhost:8080/"
        },
        "id": "vgmGFIIBIQnQ",
        "outputId": "91605284-d074-42c7-edfb-d206f0b87ae7"
      },
      "execution_count": 69,
      "outputs": [
        {
          "output_type": "execute_result",
          "data": {
            "text/plain": [
              "Index(['rank', 'title', 'total ratings', 'installs', 'average rating',\n",
              "       'growth (30 days)', 'growth (60 days)', 'price', 'category',\n",
              "       '5 star ratings', '4 star ratings', '3 star ratings', '2 star ratings',\n",
              "       '1 star ratings', 'paid', 'installs_num', 'ratings_control',\n",
              "       'avg_ranking'],\n",
              "      dtype='object')"
            ]
          },
          "metadata": {},
          "execution_count": 69
        }
      ]
    },
    {
      "cell_type": "markdown",
      "source": [
        "# Correlations:"
      ],
      "metadata": {
        "id": "mBH7cJGd0Nmt"
      }
    },
    {
      "cell_type": "code",
      "source": [
        "df[[\"total ratings\",\"installs_num\",\"average rating\",\"avg_ranking\"]].corr()"
      ],
      "metadata": {
        "colab": {
          "base_uri": "https://localhost:8080/",
          "height": 175
        },
        "id": "iEiPWjct0Gyj",
        "outputId": "26e6ee06-5425-4ce7-8ede-d0544148c665"
      },
      "execution_count": 86,
      "outputs": [
        {
          "output_type": "execute_result",
          "data": {
            "text/html": [
              "\n",
              "  <div id=\"df-deb1495b-0bce-469a-bea8-118c51c6733e\">\n",
              "    <div class=\"colab-df-container\">\n",
              "      <div>\n",
              "<style scoped>\n",
              "    .dataframe tbody tr th:only-of-type {\n",
              "        vertical-align: middle;\n",
              "    }\n",
              "\n",
              "    .dataframe tbody tr th {\n",
              "        vertical-align: top;\n",
              "    }\n",
              "\n",
              "    .dataframe thead th {\n",
              "        text-align: right;\n",
              "    }\n",
              "</style>\n",
              "<table border=\"1\" class=\"dataframe\">\n",
              "  <thead>\n",
              "    <tr style=\"text-align: right;\">\n",
              "      <th></th>\n",
              "      <th>total ratings</th>\n",
              "      <th>installs_num</th>\n",
              "      <th>average rating</th>\n",
              "      <th>avg_ranking</th>\n",
              "    </tr>\n",
              "  </thead>\n",
              "  <tbody>\n",
              "    <tr>\n",
              "      <th>total ratings</th>\n",
              "      <td>1.000000</td>\n",
              "      <td>0.676523</td>\n",
              "      <td>0.044468</td>\n",
              "      <td>0.008909</td>\n",
              "    </tr>\n",
              "    <tr>\n",
              "      <th>installs_num</th>\n",
              "      <td>0.676523</td>\n",
              "      <td>1.000000</td>\n",
              "      <td>0.042961</td>\n",
              "      <td>-0.039469</td>\n",
              "    </tr>\n",
              "    <tr>\n",
              "      <th>average rating</th>\n",
              "      <td>0.044468</td>\n",
              "      <td>0.042961</td>\n",
              "      <td>1.000000</td>\n",
              "      <td>0.675101</td>\n",
              "    </tr>\n",
              "    <tr>\n",
              "      <th>avg_ranking</th>\n",
              "      <td>0.008909</td>\n",
              "      <td>-0.039469</td>\n",
              "      <td>0.675101</td>\n",
              "      <td>1.000000</td>\n",
              "    </tr>\n",
              "  </tbody>\n",
              "</table>\n",
              "</div>\n",
              "      <button class=\"colab-df-convert\" onclick=\"convertToInteractive('df-deb1495b-0bce-469a-bea8-118c51c6733e')\"\n",
              "              title=\"Convert this dataframe to an interactive table.\"\n",
              "              style=\"display:none;\">\n",
              "        \n",
              "  <svg xmlns=\"http://www.w3.org/2000/svg\" height=\"24px\"viewBox=\"0 0 24 24\"\n",
              "       width=\"24px\">\n",
              "    <path d=\"M0 0h24v24H0V0z\" fill=\"none\"/>\n",
              "    <path d=\"M18.56 5.44l.94 2.06.94-2.06 2.06-.94-2.06-.94-.94-2.06-.94 2.06-2.06.94zm-11 1L8.5 8.5l.94-2.06 2.06-.94-2.06-.94L8.5 2.5l-.94 2.06-2.06.94zm10 10l.94 2.06.94-2.06 2.06-.94-2.06-.94-.94-2.06-.94 2.06-2.06.94z\"/><path d=\"M17.41 7.96l-1.37-1.37c-.4-.4-.92-.59-1.43-.59-.52 0-1.04.2-1.43.59L10.3 9.45l-7.72 7.72c-.78.78-.78 2.05 0 2.83L4 21.41c.39.39.9.59 1.41.59.51 0 1.02-.2 1.41-.59l7.78-7.78 2.81-2.81c.8-.78.8-2.07 0-2.86zM5.41 20L4 18.59l7.72-7.72 1.47 1.35L5.41 20z\"/>\n",
              "  </svg>\n",
              "      </button>\n",
              "      \n",
              "  <style>\n",
              "    .colab-df-container {\n",
              "      display:flex;\n",
              "      flex-wrap:wrap;\n",
              "      gap: 12px;\n",
              "    }\n",
              "\n",
              "    .colab-df-convert {\n",
              "      background-color: #E8F0FE;\n",
              "      border: none;\n",
              "      border-radius: 50%;\n",
              "      cursor: pointer;\n",
              "      display: none;\n",
              "      fill: #1967D2;\n",
              "      height: 32px;\n",
              "      padding: 0 0 0 0;\n",
              "      width: 32px;\n",
              "    }\n",
              "\n",
              "    .colab-df-convert:hover {\n",
              "      background-color: #E2EBFA;\n",
              "      box-shadow: 0px 1px 2px rgba(60, 64, 67, 0.3), 0px 1px 3px 1px rgba(60, 64, 67, 0.15);\n",
              "      fill: #174EA6;\n",
              "    }\n",
              "\n",
              "    [theme=dark] .colab-df-convert {\n",
              "      background-color: #3B4455;\n",
              "      fill: #D2E3FC;\n",
              "    }\n",
              "\n",
              "    [theme=dark] .colab-df-convert:hover {\n",
              "      background-color: #434B5C;\n",
              "      box-shadow: 0px 1px 3px 1px rgba(0, 0, 0, 0.15);\n",
              "      filter: drop-shadow(0px 1px 2px rgba(0, 0, 0, 0.3));\n",
              "      fill: #FFFFFF;\n",
              "    }\n",
              "  </style>\n",
              "\n",
              "      <script>\n",
              "        const buttonEl =\n",
              "          document.querySelector('#df-deb1495b-0bce-469a-bea8-118c51c6733e button.colab-df-convert');\n",
              "        buttonEl.style.display =\n",
              "          google.colab.kernel.accessAllowed ? 'block' : 'none';\n",
              "\n",
              "        async function convertToInteractive(key) {\n",
              "          const element = document.querySelector('#df-deb1495b-0bce-469a-bea8-118c51c6733e');\n",
              "          const dataTable =\n",
              "            await google.colab.kernel.invokeFunction('convertToInteractive',\n",
              "                                                     [key], {});\n",
              "          if (!dataTable) return;\n",
              "\n",
              "          const docLinkHtml = 'Like what you see? Visit the ' +\n",
              "            '<a target=\"_blank\" href=https://colab.research.google.com/notebooks/data_table.ipynb>data table notebook</a>'\n",
              "            + ' to learn more about interactive tables.';\n",
              "          element.innerHTML = '';\n",
              "          dataTable['output_type'] = 'display_data';\n",
              "          await google.colab.output.renderOutput(dataTable, element);\n",
              "          const docLink = document.createElement('div');\n",
              "          docLink.innerHTML = docLinkHtml;\n",
              "          element.appendChild(docLink);\n",
              "        }\n",
              "      </script>\n",
              "    </div>\n",
              "  </div>\n",
              "  "
            ],
            "text/plain": [
              "                total ratings  installs_num  average rating  avg_ranking\n",
              "total ratings        1.000000      0.676523        0.044468     0.008909\n",
              "installs_num         0.676523      1.000000        0.042961    -0.039469\n",
              "average rating       0.044468      0.042961        1.000000     0.675101\n",
              "avg_ranking          0.008909     -0.039469        0.675101     1.000000"
            ]
          },
          "metadata": {},
          "execution_count": 86
        }
      ]
    },
    {
      "cell_type": "code",
      "source": [
        "sns.scatterplot(df[\"installs_num\"],df[\"total ratings\"]);"
      ],
      "metadata": {
        "colab": {
          "base_uri": "https://localhost:8080/",
          "height": 346
        },
        "id": "WCZZKxgV0XmE",
        "outputId": "202bdf8e-451a-4029-a6d7-844b9b59acf9"
      },
      "execution_count": 83,
      "outputs": [
        {
          "output_type": "stream",
          "name": "stderr",
          "text": [
            "/usr/local/lib/python3.7/dist-packages/seaborn/_decorators.py:43: FutureWarning: Pass the following variables as keyword args: x, y. From version 0.12, the only valid positional argument will be `data`, and passing other arguments without an explicit keyword will result in an error or misinterpretation.\n",
            "  FutureWarning\n"
          ]
        },
        {
          "output_type": "display_data",
          "data": {
            "image/png": "[encoded data removed]",
            "text/plain": [
              "<Figure size 432x288 with 1 Axes>"
            ]
          },
          "metadata": {
            "needs_background": "light"
          }
        }
      ]
    },
    {
      "cell_type": "code",
      "source": [
        "sns.scatterplot(df[\"average rating\"],df[\"total ratings\"]);"
      ],
      "metadata": {
        "colab": {
          "base_uri": "https://localhost:8080/",
          "height": 345
        },
        "id": "f6LVgx_d7Qa1",
        "outputId": "f1c3d52f-db08-44cf-b64a-abcbb85c6259"
      },
      "execution_count": 87,
      "outputs": [
        {
          "output_type": "stream",
          "name": "stderr",
          "text": [
            "/usr/local/lib/python3.7/dist-packages/seaborn/_decorators.py:43: FutureWarning: Pass the following variables as keyword args: x, y. From version 0.12, the only valid positional argument will be `data`, and passing other arguments without an explicit keyword will result in an error or misinterpretation.\n",
            "  FutureWarning\n"
          ]
        },
        {
          "output_type": "display_data",
          "data": {
            "image/png": "[encoded data removed]",
            "text/plain": [
              "<Figure size 432x288 with 1 Axes>"
            ]
          },
          "metadata": {
            "needs_background": "light"
          }
        }
      ]
    },
    {
      "cell_type": "code",
      "source": [
        "sns.scatterplot(df[df[\"average rating\"]>3.99][\"average rating\"],df[\"total ratings\"]);"
      ],
      "metadata": {
        "colab": {
          "base_uri": "https://localhost:8080/",
          "height": 345
        },
        "id": "_GMs0v277esm",
        "outputId": "c2356bb1-134f-4b96-f145-db35df694ddc"
      },
      "execution_count": 92,
      "outputs": [
        {
          "output_type": "stream",
          "name": "stderr",
          "text": [
            "/usr/local/lib/python3.7/dist-packages/seaborn/_decorators.py:43: FutureWarning: Pass the following variables as keyword args: x, y. From version 0.12, the only valid positional argument will be `data`, and passing other arguments without an explicit keyword will result in an error or misinterpretation.\n",
            "  FutureWarning\n"
          ]
        },
        {
          "output_type": "display_data",
          "data": {
            "image/png": "[encoded data removed]",
            "text/plain": [
              "<Figure size 432x288 with 1 Axes>"
            ]
          },
          "metadata": {
            "needs_background": "light"
          }
        }
      ]
    },
    {
      "cell_type": "markdown",
      "source": [
        "There is a positive strong correlation between total ratings and installs. However, there is no correlation between average ratings and total ratings, and average ratings and installs. So there is no relation between total ratings and average ratings."
      ],
      "metadata": {
        "id": "cev8BPWd4niY"
      }
    },
    {
      "cell_type": "code",
      "source": [
        ""
      ],
      "metadata": {
        "id": "wbXVnCWj23R9"
      },
      "execution_count": null,
      "outputs": []
    }
  ]
}